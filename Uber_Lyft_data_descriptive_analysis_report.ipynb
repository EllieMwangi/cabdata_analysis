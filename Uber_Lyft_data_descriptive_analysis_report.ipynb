{
  "nbformat": 4,
  "nbformat_minor": 0,
  "metadata": {
    "colab": {
      "name": "Uber/Lyft data descriptive analysis report",
      "provenance": [],
      "authorship_tag": "ABX9TyOnys3gX7VYM14p8j9vIfZI",
      "include_colab_link": true
    },
    "kernelspec": {
      "name": "python3",
      "display_name": "Python 3"
    }
  },
  "cells": [
    {
      "cell_type": "markdown",
      "metadata": {
        "id": "view-in-github",
        "colab_type": "text"
      },
      "source": [
        "<a href=\"https://colab.research.google.com/github/EllieMwangi/cabdata_analysis/blob/master/Uber_Lyft_data_descriptive_analysis_report.ipynb\" target=\"_parent\"><img src=\"https://colab.research.google.com/assets/colab-badge.svg\" alt=\"Open In Colab\"/></a>"
      ]
    },
    {
      "cell_type": "code",
      "metadata": {
        "id": "1ecIIinpM1bP",
        "colab_type": "code",
        "colab": {
          "base_uri": "https://localhost:8080/",
          "height": 52
        },
        "outputId": "6e13c5e9-8daf-4dd5-df3b-3925eaa04ef8"
      },
      "source": [
        "# Load libraries\n",
        "import pandas as pd\n",
        "import numpy as np\n",
        "import datetime as dt\n",
        "import seaborn as sns"
      ],
      "execution_count": null,
      "outputs": [
        {
          "output_type": "stream",
          "text": [
            "/usr/local/lib/python3.6/dist-packages/statsmodels/tools/_testing.py:19: FutureWarning: pandas.util.testing is deprecated. Use the functions in the public API at pandas.testing instead.\n",
            "  import pandas.util.testing as tm\n"
          ],
          "name": "stderr"
        }
      ]
    },
    {
      "cell_type": "code",
      "metadata": {
        "id": "PH_OdEg9NbFA",
        "colab_type": "code",
        "colab": {
          "base_uri": "https://localhost:8080/",
          "height": 34
        },
        "outputId": "ea710bf1-7854-4078-caeb-964abdcec4ea"
      },
      "source": [
        "# Load sql extension\n",
        "%load_ext sql\n",
        "%sql sqlite://"
      ],
      "execution_count": null,
      "outputs": [
        {
          "output_type": "execute_result",
          "data": {
            "application/vnd.google.colaboratory.intrinsic": {
              "type": "string"
            },
            "text/plain": [
              "'Connected: @None'"
            ]
          },
          "metadata": {
            "tags": []
          },
          "execution_count": 2
        }
      ]
    },
    {
      "cell_type": "code",
      "metadata": {
        "id": "9GlDqNhGNmV5",
        "colab_type": "code",
        "colab": {}
      },
      "source": [
        "# Load data\n",
        "car_df = pd.read_csv('https://bit.ly/cabsdataset', infer_datetime_format=True)\n",
        "weather_df = pd.read_csv('https://bit.ly/cabsweatherdata', infer_datetime_format=True)"
      ],
      "execution_count": null,
      "outputs": []
    },
    {
      "cell_type": "code",
      "metadata": {
        "id": "RIVwXuJAN9Bi",
        "colab_type": "code",
        "colab": {
          "base_uri": "https://localhost:8080/",
          "height": 202
        },
        "outputId": "c6475bc9-9681-4a8e-9691-bfbc48437801"
      },
      "source": [
        "# First five row\n",
        "car_df.head()"
      ],
      "execution_count": null,
      "outputs": [
        {
          "output_type": "execute_result",
          "data": {
            "text/html": [
              "<div>\n",
              "<style scoped>\n",
              "    .dataframe tbody tr th:only-of-type {\n",
              "        vertical-align: middle;\n",
              "    }\n",
              "\n",
              "    .dataframe tbody tr th {\n",
              "        vertical-align: top;\n",
              "    }\n",
              "\n",
              "    .dataframe thead th {\n",
              "        text-align: right;\n",
              "    }\n",
              "</style>\n",
              "<table border=\"1\" class=\"dataframe\">\n",
              "  <thead>\n",
              "    <tr style=\"text-align: right;\">\n",
              "      <th></th>\n",
              "      <th>Unnamed: 0</th>\n",
              "      <th>distance</th>\n",
              "      <th>cab_type</th>\n",
              "      <th>time_stamp</th>\n",
              "      <th>destination</th>\n",
              "      <th>source</th>\n",
              "      <th>price</th>\n",
              "      <th>surge_multiplier</th>\n",
              "      <th>id</th>\n",
              "      <th>product_id</th>\n",
              "      <th>name</th>\n",
              "    </tr>\n",
              "  </thead>\n",
              "  <tbody>\n",
              "    <tr>\n",
              "      <th>0</th>\n",
              "      <td>0</td>\n",
              "      <td>0.44</td>\n",
              "      <td>Lyft</td>\n",
              "      <td>2018-12-16 09:30:07.890</td>\n",
              "      <td>North Station</td>\n",
              "      <td>Haymarket Square</td>\n",
              "      <td>5.0</td>\n",
              "      <td>1.0</td>\n",
              "      <td>424553bb-7174-41ea-aeb4-fe06d4f4b9d7</td>\n",
              "      <td>lyft_line</td>\n",
              "      <td>Shared</td>\n",
              "    </tr>\n",
              "    <tr>\n",
              "      <th>1</th>\n",
              "      <td>1</td>\n",
              "      <td>0.44</td>\n",
              "      <td>Lyft</td>\n",
              "      <td>2018-11-27 02:00:23.677</td>\n",
              "      <td>North Station</td>\n",
              "      <td>Haymarket Square</td>\n",
              "      <td>11.0</td>\n",
              "      <td>1.0</td>\n",
              "      <td>4bd23055-6827-41c6-b23b-3c491f24e74d</td>\n",
              "      <td>lyft_premier</td>\n",
              "      <td>Lux</td>\n",
              "    </tr>\n",
              "    <tr>\n",
              "      <th>2</th>\n",
              "      <td>2</td>\n",
              "      <td>0.44</td>\n",
              "      <td>Lyft</td>\n",
              "      <td>2018-11-28 01:00:22.198</td>\n",
              "      <td>North Station</td>\n",
              "      <td>Haymarket Square</td>\n",
              "      <td>7.0</td>\n",
              "      <td>1.0</td>\n",
              "      <td>981a3613-77af-4620-a42a-0c0866077d1e</td>\n",
              "      <td>lyft</td>\n",
              "      <td>Lyft</td>\n",
              "    </tr>\n",
              "    <tr>\n",
              "      <th>3</th>\n",
              "      <td>3</td>\n",
              "      <td>0.44</td>\n",
              "      <td>Lyft</td>\n",
              "      <td>2018-11-30 04:53:02.749</td>\n",
              "      <td>North Station</td>\n",
              "      <td>Haymarket Square</td>\n",
              "      <td>26.0</td>\n",
              "      <td>1.0</td>\n",
              "      <td>c2d88af2-d278-4bfd-a8d0-29ca77cc5512</td>\n",
              "      <td>lyft_luxsuv</td>\n",
              "      <td>Lux Black XL</td>\n",
              "    </tr>\n",
              "    <tr>\n",
              "      <th>4</th>\n",
              "      <td>4</td>\n",
              "      <td>0.44</td>\n",
              "      <td>Lyft</td>\n",
              "      <td>2018-11-29 03:49:20.223</td>\n",
              "      <td>North Station</td>\n",
              "      <td>Haymarket Square</td>\n",
              "      <td>9.0</td>\n",
              "      <td>1.0</td>\n",
              "      <td>e0126e1f-8ca9-4f2e-82b3-50505a09db9a</td>\n",
              "      <td>lyft_plus</td>\n",
              "      <td>Lyft XL</td>\n",
              "    </tr>\n",
              "  </tbody>\n",
              "</table>\n",
              "</div>"
            ],
            "text/plain": [
              "   Unnamed: 0  distance  ...    product_id          name\n",
              "0           0      0.44  ...     lyft_line        Shared\n",
              "1           1      0.44  ...  lyft_premier           Lux\n",
              "2           2      0.44  ...          lyft          Lyft\n",
              "3           3      0.44  ...   lyft_luxsuv  Lux Black XL\n",
              "4           4      0.44  ...     lyft_plus       Lyft XL\n",
              "\n",
              "[5 rows x 11 columns]"
            ]
          },
          "metadata": {
            "tags": []
          },
          "execution_count": 4
        }
      ]
    },
    {
      "cell_type": "code",
      "metadata": {
        "id": "mEkIwZfLPIfg",
        "colab_type": "code",
        "colab": {
          "base_uri": "https://localhost:8080/",
          "height": 202
        },
        "outputId": "bca29c95-0a5b-4b39-fe62-aa48f6dc349d"
      },
      "source": [
        "# Last five rows\n",
        "car_df.tail()"
      ],
      "execution_count": null,
      "outputs": [
        {
          "output_type": "execute_result",
          "data": {
            "text/html": [
              "<div>\n",
              "<style scoped>\n",
              "    .dataframe tbody tr th:only-of-type {\n",
              "        vertical-align: middle;\n",
              "    }\n",
              "\n",
              "    .dataframe tbody tr th {\n",
              "        vertical-align: top;\n",
              "    }\n",
              "\n",
              "    .dataframe thead th {\n",
              "        text-align: right;\n",
              "    }\n",
              "</style>\n",
              "<table border=\"1\" class=\"dataframe\">\n",
              "  <thead>\n",
              "    <tr style=\"text-align: right;\">\n",
              "      <th></th>\n",
              "      <th>Unnamed: 0</th>\n",
              "      <th>distance</th>\n",
              "      <th>cab_type</th>\n",
              "      <th>time_stamp</th>\n",
              "      <th>destination</th>\n",
              "      <th>source</th>\n",
              "      <th>price</th>\n",
              "      <th>surge_multiplier</th>\n",
              "      <th>id</th>\n",
              "      <th>product_id</th>\n",
              "      <th>name</th>\n",
              "    </tr>\n",
              "  </thead>\n",
              "  <tbody>\n",
              "    <tr>\n",
              "      <th>693066</th>\n",
              "      <td>693066</td>\n",
              "      <td>1.0</td>\n",
              "      <td>Uber</td>\n",
              "      <td>2018-12-01 23:53:05.534</td>\n",
              "      <td>North End</td>\n",
              "      <td>West End</td>\n",
              "      <td>13.0</td>\n",
              "      <td>1.0</td>\n",
              "      <td>616d3611-1820-450a-9845-a9ff304a4842</td>\n",
              "      <td>6f72dfc5-27f1-42e8-84db-ccc7a75f6969</td>\n",
              "      <td>UberXL</td>\n",
              "    </tr>\n",
              "    <tr>\n",
              "      <th>693067</th>\n",
              "      <td>693067</td>\n",
              "      <td>1.0</td>\n",
              "      <td>Uber</td>\n",
              "      <td>2018-12-01 23:53:05.534</td>\n",
              "      <td>North End</td>\n",
              "      <td>West End</td>\n",
              "      <td>9.5</td>\n",
              "      <td>1.0</td>\n",
              "      <td>633a3fc3-1f86-4b9e-9d48-2b7132112341</td>\n",
              "      <td>55c66225-fbe7-4fd5-9072-eab1ece5e23e</td>\n",
              "      <td>UberX</td>\n",
              "    </tr>\n",
              "    <tr>\n",
              "      <th>693068</th>\n",
              "      <td>693068</td>\n",
              "      <td>1.0</td>\n",
              "      <td>Uber</td>\n",
              "      <td>2018-12-01 23:53:05.534</td>\n",
              "      <td>North End</td>\n",
              "      <td>West End</td>\n",
              "      <td>NaN</td>\n",
              "      <td>1.0</td>\n",
              "      <td>64d451d0-639f-47a4-9b7c-6fd92fbd264f</td>\n",
              "      <td>8cf7e821-f0d3-49c6-8eba-e679c0ebcf6a</td>\n",
              "      <td>Taxi</td>\n",
              "    </tr>\n",
              "    <tr>\n",
              "      <th>693069</th>\n",
              "      <td>693069</td>\n",
              "      <td>1.0</td>\n",
              "      <td>Uber</td>\n",
              "      <td>2018-12-01 23:53:05.534</td>\n",
              "      <td>North End</td>\n",
              "      <td>West End</td>\n",
              "      <td>27.0</td>\n",
              "      <td>1.0</td>\n",
              "      <td>727e5f07-a96b-4ad1-a2c7-9abc3ad55b4e</td>\n",
              "      <td>6d318bcc-22a3-4af6-bddd-b409bfce1546</td>\n",
              "      <td>Black SUV</td>\n",
              "    </tr>\n",
              "    <tr>\n",
              "      <th>693070</th>\n",
              "      <td>693070</td>\n",
              "      <td>1.0</td>\n",
              "      <td>Uber</td>\n",
              "      <td>2018-12-01 23:53:05.534</td>\n",
              "      <td>North End</td>\n",
              "      <td>West End</td>\n",
              "      <td>10.0</td>\n",
              "      <td>1.0</td>\n",
              "      <td>e7fdc087-fe86-40a5-a3c3-3b2a8badcbda</td>\n",
              "      <td>997acbb5-e102-41e1-b155-9df7de0a73f2</td>\n",
              "      <td>UberPool</td>\n",
              "    </tr>\n",
              "  </tbody>\n",
              "</table>\n",
              "</div>"
            ],
            "text/plain": [
              "        Unnamed: 0  distance  ...                            product_id       name\n",
              "693066      693066       1.0  ...  6f72dfc5-27f1-42e8-84db-ccc7a75f6969     UberXL\n",
              "693067      693067       1.0  ...  55c66225-fbe7-4fd5-9072-eab1ece5e23e      UberX\n",
              "693068      693068       1.0  ...  8cf7e821-f0d3-49c6-8eba-e679c0ebcf6a       Taxi\n",
              "693069      693069       1.0  ...  6d318bcc-22a3-4af6-bddd-b409bfce1546  Black SUV\n",
              "693070      693070       1.0  ...  997acbb5-e102-41e1-b155-9df7de0a73f2   UberPool\n",
              "\n",
              "[5 rows x 11 columns]"
            ]
          },
          "metadata": {
            "tags": []
          },
          "execution_count": 5
        }
      ]
    },
    {
      "cell_type": "code",
      "metadata": {
        "id": "AyECJPZ2P4E9",
        "colab_type": "code",
        "colab": {
          "base_uri": "https://localhost:8080/",
          "height": 356
        },
        "outputId": "5cecb0a0-a63a-4a81-c672-e6b08ed26dea"
      },
      "source": [
        "# Sample ten records\n",
        "car_df.sample(10)"
      ],
      "execution_count": null,
      "outputs": [
        {
          "output_type": "execute_result",
          "data": {
            "text/html": [
              "<div>\n",
              "<style scoped>\n",
              "    .dataframe tbody tr th:only-of-type {\n",
              "        vertical-align: middle;\n",
              "    }\n",
              "\n",
              "    .dataframe tbody tr th {\n",
              "        vertical-align: top;\n",
              "    }\n",
              "\n",
              "    .dataframe thead th {\n",
              "        text-align: right;\n",
              "    }\n",
              "</style>\n",
              "<table border=\"1\" class=\"dataframe\">\n",
              "  <thead>\n",
              "    <tr style=\"text-align: right;\">\n",
              "      <th></th>\n",
              "      <th>Unnamed: 0</th>\n",
              "      <th>distance</th>\n",
              "      <th>cab_type</th>\n",
              "      <th>time_stamp</th>\n",
              "      <th>destination</th>\n",
              "      <th>source</th>\n",
              "      <th>price</th>\n",
              "      <th>surge_multiplier</th>\n",
              "      <th>id</th>\n",
              "      <th>product_id</th>\n",
              "      <th>name</th>\n",
              "    </tr>\n",
              "  </thead>\n",
              "  <tbody>\n",
              "    <tr>\n",
              "      <th>74413</th>\n",
              "      <td>74413</td>\n",
              "      <td>3.44</td>\n",
              "      <td>Uber</td>\n",
              "      <td>2018-12-13 19:35:11.959</td>\n",
              "      <td>Back Bay</td>\n",
              "      <td>South Station</td>\n",
              "      <td>11.5</td>\n",
              "      <td>1.0</td>\n",
              "      <td>a1212261-20d4-4ad1-9747-bd2390b03e0a</td>\n",
              "      <td>9a0e7b09-b92b-4c41-9779-2ad22b4d779d</td>\n",
              "      <td>WAV</td>\n",
              "    </tr>\n",
              "    <tr>\n",
              "      <th>531738</th>\n",
              "      <td>531738</td>\n",
              "      <td>0.54</td>\n",
              "      <td>Uber</td>\n",
              "      <td>2018-11-28 23:23:08.383</td>\n",
              "      <td>Financial District</td>\n",
              "      <td>South Station</td>\n",
              "      <td>9.5</td>\n",
              "      <td>1.0</td>\n",
              "      <td>404f2b90-1cf9-4292-800f-1fc5e631633d</td>\n",
              "      <td>6f72dfc5-27f1-42e8-84db-ccc7a75f6969</td>\n",
              "      <td>UberXL</td>\n",
              "    </tr>\n",
              "    <tr>\n",
              "      <th>133262</th>\n",
              "      <td>133262</td>\n",
              "      <td>1.25</td>\n",
              "      <td>Uber</td>\n",
              "      <td>2018-11-26 17:17:09.758</td>\n",
              "      <td>Haymarket Square</td>\n",
              "      <td>Financial District</td>\n",
              "      <td>7.5</td>\n",
              "      <td>1.0</td>\n",
              "      <td>fcd4a7e4-3a90-4304-bd17-bb30a24b933f</td>\n",
              "      <td>997acbb5-e102-41e1-b155-9df7de0a73f2</td>\n",
              "      <td>UberPool</td>\n",
              "    </tr>\n",
              "    <tr>\n",
              "      <th>265713</th>\n",
              "      <td>265713</td>\n",
              "      <td>3.01</td>\n",
              "      <td>Lyft</td>\n",
              "      <td>2018-12-01 15:48:02.840</td>\n",
              "      <td>Fenway</td>\n",
              "      <td>West End</td>\n",
              "      <td>19.5</td>\n",
              "      <td>1.0</td>\n",
              "      <td>c631e12b-9914-451f-a95e-40e94c879aa7</td>\n",
              "      <td>lyft_premier</td>\n",
              "      <td>Lux</td>\n",
              "    </tr>\n",
              "    <tr>\n",
              "      <th>218594</th>\n",
              "      <td>218594</td>\n",
              "      <td>1.30</td>\n",
              "      <td>Uber</td>\n",
              "      <td>2018-12-13 06:35:07.274</td>\n",
              "      <td>Theatre District</td>\n",
              "      <td>South Station</td>\n",
              "      <td>7.0</td>\n",
              "      <td>1.0</td>\n",
              "      <td>a76fc686-6554-4843-84e9-8e9ecf9b9714</td>\n",
              "      <td>9a0e7b09-b92b-4c41-9779-2ad22b4d779d</td>\n",
              "      <td>WAV</td>\n",
              "    </tr>\n",
              "    <tr>\n",
              "      <th>214234</th>\n",
              "      <td>214234</td>\n",
              "      <td>1.25</td>\n",
              "      <td>Uber</td>\n",
              "      <td>2018-11-26 07:18:46.737</td>\n",
              "      <td>Haymarket Square</td>\n",
              "      <td>Financial District</td>\n",
              "      <td>12.0</td>\n",
              "      <td>1.0</td>\n",
              "      <td>3abff097-5457-46f3-ae1e-9f55adb50287</td>\n",
              "      <td>6f72dfc5-27f1-42e8-84db-ccc7a75f6969</td>\n",
              "      <td>UberXL</td>\n",
              "    </tr>\n",
              "    <tr>\n",
              "      <th>543346</th>\n",
              "      <td>543346</td>\n",
              "      <td>2.79</td>\n",
              "      <td>Uber</td>\n",
              "      <td>2018-11-28 22:14:07.994</td>\n",
              "      <td>Beacon Hill</td>\n",
              "      <td>Boston University</td>\n",
              "      <td>NaN</td>\n",
              "      <td>1.0</td>\n",
              "      <td>18f317bb-f508-4527-b31e-d18823e84f73</td>\n",
              "      <td>8cf7e821-f0d3-49c6-8eba-e679c0ebcf6a</td>\n",
              "      <td>Taxi</td>\n",
              "    </tr>\n",
              "    <tr>\n",
              "      <th>408839</th>\n",
              "      <td>408839</td>\n",
              "      <td>4.61</td>\n",
              "      <td>Lyft</td>\n",
              "      <td>2018-12-15 18:35:06.407</td>\n",
              "      <td>Financial District</td>\n",
              "      <td>Boston University</td>\n",
              "      <td>26.0</td>\n",
              "      <td>1.0</td>\n",
              "      <td>74fa5cc2-fc23-44e4-bb85-adddbdf12f57</td>\n",
              "      <td>lyft_premier</td>\n",
              "      <td>Lux</td>\n",
              "    </tr>\n",
              "    <tr>\n",
              "      <th>197139</th>\n",
              "      <td>197139</td>\n",
              "      <td>2.17</td>\n",
              "      <td>Lyft</td>\n",
              "      <td>2018-12-16 11:50:05.868</td>\n",
              "      <td>South Station</td>\n",
              "      <td>West End</td>\n",
              "      <td>3.5</td>\n",
              "      <td>1.0</td>\n",
              "      <td>3d134c7f-6ee4-450f-b71e-69d11af74a9f</td>\n",
              "      <td>lyft_line</td>\n",
              "      <td>Shared</td>\n",
              "    </tr>\n",
              "    <tr>\n",
              "      <th>50413</th>\n",
              "      <td>50413</td>\n",
              "      <td>3.61</td>\n",
              "      <td>Uber</td>\n",
              "      <td>2018-12-02 05:23:01.681</td>\n",
              "      <td>Back Bay</td>\n",
              "      <td>North End</td>\n",
              "      <td>40.5</td>\n",
              "      <td>1.0</td>\n",
              "      <td>cefa2df7-3e16-4cf5-b8c8-a78dcf82b54c</td>\n",
              "      <td>6d318bcc-22a3-4af6-bddd-b409bfce1546</td>\n",
              "      <td>Black SUV</td>\n",
              "    </tr>\n",
              "  </tbody>\n",
              "</table>\n",
              "</div>"
            ],
            "text/plain": [
              "        Unnamed: 0  distance  ...                            product_id       name\n",
              "74413        74413      3.44  ...  9a0e7b09-b92b-4c41-9779-2ad22b4d779d        WAV\n",
              "531738      531738      0.54  ...  6f72dfc5-27f1-42e8-84db-ccc7a75f6969     UberXL\n",
              "133262      133262      1.25  ...  997acbb5-e102-41e1-b155-9df7de0a73f2   UberPool\n",
              "265713      265713      3.01  ...                          lyft_premier        Lux\n",
              "218594      218594      1.30  ...  9a0e7b09-b92b-4c41-9779-2ad22b4d779d        WAV\n",
              "214234      214234      1.25  ...  6f72dfc5-27f1-42e8-84db-ccc7a75f6969     UberXL\n",
              "543346      543346      2.79  ...  8cf7e821-f0d3-49c6-8eba-e679c0ebcf6a       Taxi\n",
              "408839      408839      4.61  ...                          lyft_premier        Lux\n",
              "197139      197139      2.17  ...                             lyft_line     Shared\n",
              "50413        50413      3.61  ...  6d318bcc-22a3-4af6-bddd-b409bfce1546  Black SUV\n",
              "\n",
              "[10 rows x 11 columns]"
            ]
          },
          "metadata": {
            "tags": []
          },
          "execution_count": 6
        }
      ]
    },
    {
      "cell_type": "code",
      "metadata": {
        "id": "49PyAxKMQQ9j",
        "colab_type": "code",
        "colab": {
          "base_uri": "https://localhost:8080/",
          "height": 34
        },
        "outputId": "9845c544-2756-4127-cb24-7ee2de7ceede"
      },
      "source": [
        "# Number of rows and columns\n",
        "car_df.shape"
      ],
      "execution_count": null,
      "outputs": [
        {
          "output_type": "execute_result",
          "data": {
            "text/plain": [
              "(693071, 11)"
            ]
          },
          "metadata": {
            "tags": []
          },
          "execution_count": 7
        }
      ]
    },
    {
      "cell_type": "code",
      "metadata": {
        "id": "W2NlkV87QpC0",
        "colab_type": "code",
        "colab": {
          "base_uri": "https://localhost:8080/",
          "height": 225
        },
        "outputId": "a4b05807-394d-4551-c8d3-79f244e77ebb"
      },
      "source": [
        "# Column data types\n",
        "car_df.dtypes"
      ],
      "execution_count": null,
      "outputs": [
        {
          "output_type": "execute_result",
          "data": {
            "text/plain": [
              "Unnamed: 0            int64\n",
              "distance            float64\n",
              "cab_type             object\n",
              "time_stamp           object\n",
              "destination          object\n",
              "source               object\n",
              "price               float64\n",
              "surge_multiplier    float64\n",
              "id                   object\n",
              "product_id           object\n",
              "name                 object\n",
              "dtype: object"
            ]
          },
          "metadata": {
            "tags": []
          },
          "execution_count": 8
        }
      ]
    },
    {
      "cell_type": "code",
      "metadata": {
        "id": "JHuSPtzBQyfE",
        "colab_type": "code",
        "colab": {}
      },
      "source": [
        "#Drop unrequired unnamed column\n",
        "car_df = car_df.drop(['Unnamed: 0'], axis=1)"
      ],
      "execution_count": null,
      "outputs": []
    },
    {
      "cell_type": "code",
      "metadata": {
        "id": "p3IciSdGRTwp",
        "colab_type": "code",
        "colab": {
          "base_uri": "https://localhost:8080/",
          "height": 202
        },
        "outputId": "4f042664-b551-4ecc-ac25-1e4c16f2157c"
      },
      "source": [
        "car_df.head()"
      ],
      "execution_count": null,
      "outputs": [
        {
          "output_type": "execute_result",
          "data": {
            "text/html": [
              "<div>\n",
              "<style scoped>\n",
              "    .dataframe tbody tr th:only-of-type {\n",
              "        vertical-align: middle;\n",
              "    }\n",
              "\n",
              "    .dataframe tbody tr th {\n",
              "        vertical-align: top;\n",
              "    }\n",
              "\n",
              "    .dataframe thead th {\n",
              "        text-align: right;\n",
              "    }\n",
              "</style>\n",
              "<table border=\"1\" class=\"dataframe\">\n",
              "  <thead>\n",
              "    <tr style=\"text-align: right;\">\n",
              "      <th></th>\n",
              "      <th>distance</th>\n",
              "      <th>cab_type</th>\n",
              "      <th>time_stamp</th>\n",
              "      <th>destination</th>\n",
              "      <th>source</th>\n",
              "      <th>price</th>\n",
              "      <th>surge_multiplier</th>\n",
              "      <th>id</th>\n",
              "      <th>product_id</th>\n",
              "      <th>name</th>\n",
              "    </tr>\n",
              "  </thead>\n",
              "  <tbody>\n",
              "    <tr>\n",
              "      <th>0</th>\n",
              "      <td>0.44</td>\n",
              "      <td>Lyft</td>\n",
              "      <td>2018-12-16 09:30:07.890</td>\n",
              "      <td>North Station</td>\n",
              "      <td>Haymarket Square</td>\n",
              "      <td>5.0</td>\n",
              "      <td>1.0</td>\n",
              "      <td>424553bb-7174-41ea-aeb4-fe06d4f4b9d7</td>\n",
              "      <td>lyft_line</td>\n",
              "      <td>Shared</td>\n",
              "    </tr>\n",
              "    <tr>\n",
              "      <th>1</th>\n",
              "      <td>0.44</td>\n",
              "      <td>Lyft</td>\n",
              "      <td>2018-11-27 02:00:23.677</td>\n",
              "      <td>North Station</td>\n",
              "      <td>Haymarket Square</td>\n",
              "      <td>11.0</td>\n",
              "      <td>1.0</td>\n",
              "      <td>4bd23055-6827-41c6-b23b-3c491f24e74d</td>\n",
              "      <td>lyft_premier</td>\n",
              "      <td>Lux</td>\n",
              "    </tr>\n",
              "    <tr>\n",
              "      <th>2</th>\n",
              "      <td>0.44</td>\n",
              "      <td>Lyft</td>\n",
              "      <td>2018-11-28 01:00:22.198</td>\n",
              "      <td>North Station</td>\n",
              "      <td>Haymarket Square</td>\n",
              "      <td>7.0</td>\n",
              "      <td>1.0</td>\n",
              "      <td>981a3613-77af-4620-a42a-0c0866077d1e</td>\n",
              "      <td>lyft</td>\n",
              "      <td>Lyft</td>\n",
              "    </tr>\n",
              "    <tr>\n",
              "      <th>3</th>\n",
              "      <td>0.44</td>\n",
              "      <td>Lyft</td>\n",
              "      <td>2018-11-30 04:53:02.749</td>\n",
              "      <td>North Station</td>\n",
              "      <td>Haymarket Square</td>\n",
              "      <td>26.0</td>\n",
              "      <td>1.0</td>\n",
              "      <td>c2d88af2-d278-4bfd-a8d0-29ca77cc5512</td>\n",
              "      <td>lyft_luxsuv</td>\n",
              "      <td>Lux Black XL</td>\n",
              "    </tr>\n",
              "    <tr>\n",
              "      <th>4</th>\n",
              "      <td>0.44</td>\n",
              "      <td>Lyft</td>\n",
              "      <td>2018-11-29 03:49:20.223</td>\n",
              "      <td>North Station</td>\n",
              "      <td>Haymarket Square</td>\n",
              "      <td>9.0</td>\n",
              "      <td>1.0</td>\n",
              "      <td>e0126e1f-8ca9-4f2e-82b3-50505a09db9a</td>\n",
              "      <td>lyft_plus</td>\n",
              "      <td>Lyft XL</td>\n",
              "    </tr>\n",
              "  </tbody>\n",
              "</table>\n",
              "</div>"
            ],
            "text/plain": [
              "   distance cab_type  ...    product_id          name\n",
              "0      0.44     Lyft  ...     lyft_line        Shared\n",
              "1      0.44     Lyft  ...  lyft_premier           Lux\n",
              "2      0.44     Lyft  ...          lyft          Lyft\n",
              "3      0.44     Lyft  ...   lyft_luxsuv  Lux Black XL\n",
              "4      0.44     Lyft  ...     lyft_plus       Lyft XL\n",
              "\n",
              "[5 rows x 10 columns]"
            ]
          },
          "metadata": {
            "tags": []
          },
          "execution_count": 10
        }
      ]
    },
    {
      "cell_type": "code",
      "metadata": {
        "id": "pmErAISNRWdP",
        "colab_type": "code",
        "colab": {
          "base_uri": "https://localhost:8080/",
          "height": 202
        },
        "outputId": "23260f20-d3bb-4049-a9e5-193c253f941a"
      },
      "source": [
        "# First five columns of weather dataframe\n",
        "weather_df.head()"
      ],
      "execution_count": null,
      "outputs": [
        {
          "output_type": "execute_result",
          "data": {
            "text/html": [
              "<div>\n",
              "<style scoped>\n",
              "    .dataframe tbody tr th:only-of-type {\n",
              "        vertical-align: middle;\n",
              "    }\n",
              "\n",
              "    .dataframe tbody tr th {\n",
              "        vertical-align: top;\n",
              "    }\n",
              "\n",
              "    .dataframe thead th {\n",
              "        text-align: right;\n",
              "    }\n",
              "</style>\n",
              "<table border=\"1\" class=\"dataframe\">\n",
              "  <thead>\n",
              "    <tr style=\"text-align: right;\">\n",
              "      <th></th>\n",
              "      <th>Unnamed: 0</th>\n",
              "      <th>temp</th>\n",
              "      <th>location</th>\n",
              "      <th>clouds</th>\n",
              "      <th>pressure</th>\n",
              "      <th>rain</th>\n",
              "      <th>time_stamp</th>\n",
              "      <th>humidity</th>\n",
              "      <th>wind</th>\n",
              "    </tr>\n",
              "  </thead>\n",
              "  <tbody>\n",
              "    <tr>\n",
              "      <th>0</th>\n",
              "      <td>0</td>\n",
              "      <td>42.42</td>\n",
              "      <td>Back Bay</td>\n",
              "      <td>1.0</td>\n",
              "      <td>1012.14</td>\n",
              "      <td>0.1228</td>\n",
              "      <td>2018-12-16 23:45:01</td>\n",
              "      <td>0.77</td>\n",
              "      <td>11.25</td>\n",
              "    </tr>\n",
              "    <tr>\n",
              "      <th>1</th>\n",
              "      <td>1</td>\n",
              "      <td>42.43</td>\n",
              "      <td>Beacon Hill</td>\n",
              "      <td>1.0</td>\n",
              "      <td>1012.15</td>\n",
              "      <td>0.1846</td>\n",
              "      <td>2018-12-16 23:45:01</td>\n",
              "      <td>0.76</td>\n",
              "      <td>11.32</td>\n",
              "    </tr>\n",
              "    <tr>\n",
              "      <th>2</th>\n",
              "      <td>2</td>\n",
              "      <td>42.50</td>\n",
              "      <td>Boston University</td>\n",
              "      <td>1.0</td>\n",
              "      <td>1012.15</td>\n",
              "      <td>0.1089</td>\n",
              "      <td>2018-12-16 23:45:01</td>\n",
              "      <td>0.76</td>\n",
              "      <td>11.07</td>\n",
              "    </tr>\n",
              "    <tr>\n",
              "      <th>3</th>\n",
              "      <td>3</td>\n",
              "      <td>42.11</td>\n",
              "      <td>Fenway</td>\n",
              "      <td>1.0</td>\n",
              "      <td>1012.13</td>\n",
              "      <td>0.0969</td>\n",
              "      <td>2018-12-16 23:45:01</td>\n",
              "      <td>0.77</td>\n",
              "      <td>11.09</td>\n",
              "    </tr>\n",
              "    <tr>\n",
              "      <th>4</th>\n",
              "      <td>4</td>\n",
              "      <td>43.13</td>\n",
              "      <td>Financial District</td>\n",
              "      <td>1.0</td>\n",
              "      <td>1012.14</td>\n",
              "      <td>0.1786</td>\n",
              "      <td>2018-12-16 23:45:01</td>\n",
              "      <td>0.75</td>\n",
              "      <td>11.49</td>\n",
              "    </tr>\n",
              "  </tbody>\n",
              "</table>\n",
              "</div>"
            ],
            "text/plain": [
              "   Unnamed: 0   temp            location  ...           time_stamp  humidity   wind\n",
              "0           0  42.42            Back Bay  ...  2018-12-16 23:45:01      0.77  11.25\n",
              "1           1  42.43         Beacon Hill  ...  2018-12-16 23:45:01      0.76  11.32\n",
              "2           2  42.50   Boston University  ...  2018-12-16 23:45:01      0.76  11.07\n",
              "3           3  42.11              Fenway  ...  2018-12-16 23:45:01      0.77  11.09\n",
              "4           4  43.13  Financial District  ...  2018-12-16 23:45:01      0.75  11.49\n",
              "\n",
              "[5 rows x 9 columns]"
            ]
          },
          "metadata": {
            "tags": []
          },
          "execution_count": 11
        }
      ]
    },
    {
      "cell_type": "code",
      "metadata": {
        "id": "HVxnpodORl2w",
        "colab_type": "code",
        "colab": {
          "base_uri": "https://localhost:8080/",
          "height": 202
        },
        "outputId": "1d56850d-840d-49ab-cfc2-e6320f61642a"
      },
      "source": [
        "# Last five columns\n",
        "weather_df.tail()"
      ],
      "execution_count": null,
      "outputs": [
        {
          "output_type": "execute_result",
          "data": {
            "text/html": [
              "<div>\n",
              "<style scoped>\n",
              "    .dataframe tbody tr th:only-of-type {\n",
              "        vertical-align: middle;\n",
              "    }\n",
              "\n",
              "    .dataframe tbody tr th {\n",
              "        vertical-align: top;\n",
              "    }\n",
              "\n",
              "    .dataframe thead th {\n",
              "        text-align: right;\n",
              "    }\n",
              "</style>\n",
              "<table border=\"1\" class=\"dataframe\">\n",
              "  <thead>\n",
              "    <tr style=\"text-align: right;\">\n",
              "      <th></th>\n",
              "      <th>Unnamed: 0</th>\n",
              "      <th>temp</th>\n",
              "      <th>location</th>\n",
              "      <th>clouds</th>\n",
              "      <th>pressure</th>\n",
              "      <th>rain</th>\n",
              "      <th>time_stamp</th>\n",
              "      <th>humidity</th>\n",
              "      <th>wind</th>\n",
              "    </tr>\n",
              "  </thead>\n",
              "  <tbody>\n",
              "    <tr>\n",
              "      <th>6271</th>\n",
              "      <td>6271</td>\n",
              "      <td>44.72</td>\n",
              "      <td>North Station</td>\n",
              "      <td>0.89</td>\n",
              "      <td>1000.69</td>\n",
              "      <td>NaN</td>\n",
              "      <td>2018-12-03 06:52:54</td>\n",
              "      <td>0.96</td>\n",
              "      <td>1.52</td>\n",
              "    </tr>\n",
              "    <tr>\n",
              "      <th>6272</th>\n",
              "      <td>6272</td>\n",
              "      <td>44.85</td>\n",
              "      <td>Northeastern University</td>\n",
              "      <td>0.88</td>\n",
              "      <td>1000.71</td>\n",
              "      <td>NaN</td>\n",
              "      <td>2018-12-03 06:52:54</td>\n",
              "      <td>0.96</td>\n",
              "      <td>1.54</td>\n",
              "    </tr>\n",
              "    <tr>\n",
              "      <th>6273</th>\n",
              "      <td>6273</td>\n",
              "      <td>44.82</td>\n",
              "      <td>South Station</td>\n",
              "      <td>0.89</td>\n",
              "      <td>1000.70</td>\n",
              "      <td>NaN</td>\n",
              "      <td>2018-12-03 06:52:54</td>\n",
              "      <td>0.96</td>\n",
              "      <td>1.54</td>\n",
              "    </tr>\n",
              "    <tr>\n",
              "      <th>6274</th>\n",
              "      <td>6274</td>\n",
              "      <td>44.78</td>\n",
              "      <td>Theatre District</td>\n",
              "      <td>0.89</td>\n",
              "      <td>1000.70</td>\n",
              "      <td>NaN</td>\n",
              "      <td>2018-12-03 06:52:54</td>\n",
              "      <td>0.96</td>\n",
              "      <td>1.54</td>\n",
              "    </tr>\n",
              "    <tr>\n",
              "      <th>6275</th>\n",
              "      <td>6275</td>\n",
              "      <td>44.69</td>\n",
              "      <td>West End</td>\n",
              "      <td>0.89</td>\n",
              "      <td>1000.70</td>\n",
              "      <td>NaN</td>\n",
              "      <td>2018-12-03 06:52:54</td>\n",
              "      <td>0.96</td>\n",
              "      <td>1.52</td>\n",
              "    </tr>\n",
              "  </tbody>\n",
              "</table>\n",
              "</div>"
            ],
            "text/plain": [
              "      Unnamed: 0   temp  ... humidity  wind\n",
              "6271        6271  44.72  ...     0.96  1.52\n",
              "6272        6272  44.85  ...     0.96  1.54\n",
              "6273        6273  44.82  ...     0.96  1.54\n",
              "6274        6274  44.78  ...     0.96  1.54\n",
              "6275        6275  44.69  ...     0.96  1.52\n",
              "\n",
              "[5 rows x 9 columns]"
            ]
          },
          "metadata": {
            "tags": []
          },
          "execution_count": 12
        }
      ]
    },
    {
      "cell_type": "code",
      "metadata": {
        "id": "yqQ5VUddSb3e",
        "colab_type": "code",
        "colab": {}
      },
      "source": [
        "#Drop unnamed column\n",
        "weather_df = weather_df.drop(['Unnamed: 0'], axis=1)"
      ],
      "execution_count": null,
      "outputs": []
    },
    {
      "cell_type": "code",
      "metadata": {
        "id": "Yeeu2YErSyUd",
        "colab_type": "code",
        "colab": {
          "base_uri": "https://localhost:8080/",
          "height": 356
        },
        "outputId": "6e912d54-52e4-480d-dfcf-d7d0eaacbe53"
      },
      "source": [
        "#Sample 10 rows\n",
        "weather_df.sample(10)"
      ],
      "execution_count": null,
      "outputs": [
        {
          "output_type": "execute_result",
          "data": {
            "text/html": [
              "<div>\n",
              "<style scoped>\n",
              "    .dataframe tbody tr th:only-of-type {\n",
              "        vertical-align: middle;\n",
              "    }\n",
              "\n",
              "    .dataframe tbody tr th {\n",
              "        vertical-align: top;\n",
              "    }\n",
              "\n",
              "    .dataframe thead th {\n",
              "        text-align: right;\n",
              "    }\n",
              "</style>\n",
              "<table border=\"1\" class=\"dataframe\">\n",
              "  <thead>\n",
              "    <tr style=\"text-align: right;\">\n",
              "      <th></th>\n",
              "      <th>temp</th>\n",
              "      <th>location</th>\n",
              "      <th>clouds</th>\n",
              "      <th>pressure</th>\n",
              "      <th>rain</th>\n",
              "      <th>time_stamp</th>\n",
              "      <th>humidity</th>\n",
              "      <th>wind</th>\n",
              "    </tr>\n",
              "  </thead>\n",
              "  <tbody>\n",
              "    <tr>\n",
              "      <th>1497</th>\n",
              "      <td>42.45</td>\n",
              "      <td>North Station</td>\n",
              "      <td>0.45</td>\n",
              "      <td>1022.63</td>\n",
              "      <td>NaN</td>\n",
              "      <td>2018-12-01 18:52:54</td>\n",
              "      <td>0.57</td>\n",
              "      <td>0.93</td>\n",
              "    </tr>\n",
              "    <tr>\n",
              "      <th>589</th>\n",
              "      <td>37.93</td>\n",
              "      <td>Financial District</td>\n",
              "      <td>0.45</td>\n",
              "      <td>998.91</td>\n",
              "      <td>NaN</td>\n",
              "      <td>2018-11-29 04:46:23</td>\n",
              "      <td>0.69</td>\n",
              "      <td>9.44</td>\n",
              "    </tr>\n",
              "    <tr>\n",
              "      <th>4125</th>\n",
              "      <td>41.46</td>\n",
              "      <td>Fenway</td>\n",
              "      <td>0.95</td>\n",
              "      <td>989.87</td>\n",
              "      <td>NaN</td>\n",
              "      <td>2018-11-27 16:15:20</td>\n",
              "      <td>0.83</td>\n",
              "      <td>10.48</td>\n",
              "    </tr>\n",
              "    <tr>\n",
              "      <th>3862</th>\n",
              "      <td>40.62</td>\n",
              "      <td>Fenway</td>\n",
              "      <td>0.83</td>\n",
              "      <td>994.10</td>\n",
              "      <td>NaN</td>\n",
              "      <td>2018-11-28 22:02:08</td>\n",
              "      <td>0.63</td>\n",
              "      <td>9.21</td>\n",
              "    </tr>\n",
              "    <tr>\n",
              "      <th>2638</th>\n",
              "      <td>23.76</td>\n",
              "      <td>North End</td>\n",
              "      <td>0.64</td>\n",
              "      <td>1006.81</td>\n",
              "      <td>NaN</td>\n",
              "      <td>2018-12-18 11:45:01</td>\n",
              "      <td>0.54</td>\n",
              "      <td>16.23</td>\n",
              "    </tr>\n",
              "    <tr>\n",
              "      <th>2261</th>\n",
              "      <td>39.36</td>\n",
              "      <td>Haymarket Square</td>\n",
              "      <td>0.39</td>\n",
              "      <td>1022.44</td>\n",
              "      <td>NaN</td>\n",
              "      <td>2018-12-16 08:45:01</td>\n",
              "      <td>0.74</td>\n",
              "      <td>8.14</td>\n",
              "    </tr>\n",
              "    <tr>\n",
              "      <th>347</th>\n",
              "      <td>40.46</td>\n",
              "      <td>Theatre District</td>\n",
              "      <td>1.00</td>\n",
              "      <td>1014.17</td>\n",
              "      <td>NaN</td>\n",
              "      <td>2018-11-26 06:24:05</td>\n",
              "      <td>0.92</td>\n",
              "      <td>1.35</td>\n",
              "    </tr>\n",
              "    <tr>\n",
              "      <th>4804</th>\n",
              "      <td>40.47</td>\n",
              "      <td>Back Bay</td>\n",
              "      <td>1.00</td>\n",
              "      <td>1014.18</td>\n",
              "      <td>NaN</td>\n",
              "      <td>2018-11-26 06:16:16</td>\n",
              "      <td>0.91</td>\n",
              "      <td>1.19</td>\n",
              "    </tr>\n",
              "    <tr>\n",
              "      <th>660</th>\n",
              "      <td>29.94</td>\n",
              "      <td>Beacon Hill</td>\n",
              "      <td>0.15</td>\n",
              "      <td>1011.43</td>\n",
              "      <td>NaN</td>\n",
              "      <td>2018-12-18 17:45:01</td>\n",
              "      <td>0.46</td>\n",
              "      <td>13.52</td>\n",
              "    </tr>\n",
              "    <tr>\n",
              "      <th>3583</th>\n",
              "      <td>35.28</td>\n",
              "      <td>South Station</td>\n",
              "      <td>0.81</td>\n",
              "      <td>1001.73</td>\n",
              "      <td>0.0273</td>\n",
              "      <td>2018-12-18 05:45:02</td>\n",
              "      <td>0.64</td>\n",
              "      <td>11.96</td>\n",
              "    </tr>\n",
              "  </tbody>\n",
              "</table>\n",
              "</div>"
            ],
            "text/plain": [
              "       temp            location  clouds  ...           time_stamp  humidity   wind\n",
              "1497  42.45       North Station    0.45  ...  2018-12-01 18:52:54      0.57   0.93\n",
              "589   37.93  Financial District    0.45  ...  2018-11-29 04:46:23      0.69   9.44\n",
              "4125  41.46              Fenway    0.95  ...  2018-11-27 16:15:20      0.83  10.48\n",
              "3862  40.62              Fenway    0.83  ...  2018-11-28 22:02:08      0.63   9.21\n",
              "2638  23.76           North End    0.64  ...  2018-12-18 11:45:01      0.54  16.23\n",
              "2261  39.36    Haymarket Square    0.39  ...  2018-12-16 08:45:01      0.74   8.14\n",
              "347   40.46    Theatre District    1.00  ...  2018-11-26 06:24:05      0.92   1.35\n",
              "4804  40.47            Back Bay    1.00  ...  2018-11-26 06:16:16      0.91   1.19\n",
              "660   29.94         Beacon Hill    0.15  ...  2018-12-18 17:45:01      0.46  13.52\n",
              "3583  35.28       South Station    0.81  ...  2018-12-18 05:45:02      0.64  11.96\n",
              "\n",
              "[10 rows x 8 columns]"
            ]
          },
          "metadata": {
            "tags": []
          },
          "execution_count": 14
        }
      ]
    },
    {
      "cell_type": "code",
      "metadata": {
        "id": "PVXHtPPCS4z0",
        "colab_type": "code",
        "colab": {
          "base_uri": "https://localhost:8080/",
          "height": 34
        },
        "outputId": "5a728399-136a-44c2-caa1-9e903f47b5e7"
      },
      "source": [
        "weather_df.shape"
      ],
      "execution_count": null,
      "outputs": [
        {
          "output_type": "execute_result",
          "data": {
            "text/plain": [
              "(6276, 8)"
            ]
          },
          "metadata": {
            "tags": []
          },
          "execution_count": 15
        }
      ]
    },
    {
      "cell_type": "code",
      "metadata": {
        "id": "ZuG9sTkdTFXQ",
        "colab_type": "code",
        "colab": {
          "base_uri": "https://localhost:8080/",
          "height": 173
        },
        "outputId": "ff37d375-6c20-4da0-c6fc-c8a415b39fb3"
      },
      "source": [
        "weather_df.dtypes"
      ],
      "execution_count": null,
      "outputs": [
        {
          "output_type": "execute_result",
          "data": {
            "text/plain": [
              "temp          float64\n",
              "location       object\n",
              "clouds        float64\n",
              "pressure      float64\n",
              "rain          float64\n",
              "time_stamp     object\n",
              "humidity      float64\n",
              "wind          float64\n",
              "dtype: object"
            ]
          },
          "metadata": {
            "tags": []
          },
          "execution_count": 16
        }
      ]
    },
    {
      "cell_type": "code",
      "metadata": {
        "id": "mlwhnjZDTa31",
        "colab_type": "code",
        "colab": {
          "base_uri": "https://localhost:8080/",
          "height": 208
        },
        "outputId": "3f9b555e-0f2b-4b36-e515-be64a8b2a523"
      },
      "source": [
        "#Check for missing values\n",
        "car_df.isnull().sum().sort_values()"
      ],
      "execution_count": null,
      "outputs": [
        {
          "output_type": "execute_result",
          "data": {
            "text/plain": [
              "distance                0\n",
              "cab_type                0\n",
              "time_stamp              0\n",
              "destination             0\n",
              "source                  0\n",
              "surge_multiplier        0\n",
              "id                      0\n",
              "product_id              0\n",
              "name                    0\n",
              "price               55095\n",
              "dtype: int64"
            ]
          },
          "metadata": {
            "tags": []
          },
          "execution_count": 17
        }
      ]
    },
    {
      "cell_type": "code",
      "metadata": {
        "id": "B4BwmTFwT7Qe",
        "colab_type": "code",
        "colab": {
          "base_uri": "https://localhost:8080/",
          "height": 173
        },
        "outputId": "f5cfea53-91e4-47b7-9c83-13ab7bbbe5d6"
      },
      "source": [
        "weather_df.isnull().sum().sort_values(ascending=False)"
      ],
      "execution_count": null,
      "outputs": [
        {
          "output_type": "execute_result",
          "data": {
            "text/plain": [
              "rain          5382\n",
              "wind             0\n",
              "humidity         0\n",
              "time_stamp       0\n",
              "pressure         0\n",
              "clouds           0\n",
              "location         0\n",
              "temp             0\n",
              "dtype: int64"
            ]
          },
          "metadata": {
            "tags": []
          },
          "execution_count": 18
        }
      ]
    },
    {
      "cell_type": "code",
      "metadata": {
        "id": "BQwHYoy9UjPh",
        "colab_type": "code",
        "colab": {
          "base_uri": "https://localhost:8080/",
          "height": 34
        },
        "outputId": "15eca3f1-cc8a-4139-c259-3980f5131303"
      },
      "source": [
        "#Check for duplicates\n",
        "car_df.duplicated().any()"
      ],
      "execution_count": null,
      "outputs": [
        {
          "output_type": "execute_result",
          "data": {
            "text/plain": [
              "False"
            ]
          },
          "metadata": {
            "tags": []
          },
          "execution_count": 19
        }
      ]
    },
    {
      "cell_type": "code",
      "metadata": {
        "id": "A3A_kfdRU-4h",
        "colab_type": "code",
        "colab": {
          "base_uri": "https://localhost:8080/",
          "height": 34
        },
        "outputId": "384bc884-8329-41b6-dd7d-32a4f31a2e70"
      },
      "source": [
        "weather_df.duplicated().any()"
      ],
      "execution_count": null,
      "outputs": [
        {
          "output_type": "execute_result",
          "data": {
            "text/plain": [
              "False"
            ]
          },
          "metadata": {
            "tags": []
          },
          "execution_count": 20
        }
      ]
    },
    {
      "cell_type": "code",
      "metadata": {
        "id": "bBOVOfSIVKQS",
        "colab_type": "code",
        "colab": {}
      },
      "source": [
        "#Fill missing values in rain column with 0\n",
        "weather_df.rain.fillna(0, inplace=True)\n",
        "#Drop rows with missing price value\n",
        "car_df.dropna(inplace=True)"
      ],
      "execution_count": null,
      "outputs": []
    },
    {
      "cell_type": "code",
      "metadata": {
        "id": "YNUR7YcvVukD",
        "colab_type": "code",
        "colab": {
          "base_uri": "https://localhost:8080/",
          "height": 173
        },
        "outputId": "3a37b061-a5b7-46dd-af39-2000b58fa6dd"
      },
      "source": [
        "weather_df.isnull().sum()"
      ],
      "execution_count": null,
      "outputs": [
        {
          "output_type": "execute_result",
          "data": {
            "text/plain": [
              "temp          0\n",
              "location      0\n",
              "clouds        0\n",
              "pressure      0\n",
              "rain          0\n",
              "time_stamp    0\n",
              "humidity      0\n",
              "wind          0\n",
              "dtype: int64"
            ]
          },
          "metadata": {
            "tags": []
          },
          "execution_count": 22
        }
      ]
    },
    {
      "cell_type": "code",
      "metadata": {
        "id": "nHPj9Dvi-STv",
        "colab_type": "code",
        "colab": {
          "base_uri": "https://localhost:8080/",
          "height": 208
        },
        "outputId": "9a08e91e-27d1-4ec1-f157-9866f9abcef0"
      },
      "source": [
        "car_df.isnull().sum()"
      ],
      "execution_count": null,
      "outputs": [
        {
          "output_type": "execute_result",
          "data": {
            "text/plain": [
              "distance            0\n",
              "cab_type            0\n",
              "time_stamp          0\n",
              "destination         0\n",
              "source              0\n",
              "price               0\n",
              "surge_multiplier    0\n",
              "id                  0\n",
              "product_id          0\n",
              "name                0\n",
              "dtype: int64"
            ]
          },
          "metadata": {
            "tags": []
          },
          "execution_count": 23
        }
      ]
    },
    {
      "cell_type": "code",
      "metadata": {
        "id": "B-3DxtrbVzkX",
        "colab_type": "code",
        "colab": {
          "base_uri": "https://localhost:8080/",
          "height": 34
        },
        "outputId": "dd3dcb51-02d2-413d-c618-f33b5b988565"
      },
      "source": [
        "# Check for unique values in cab type column\n",
        "car_df.cab_type.unique()"
      ],
      "execution_count": null,
      "outputs": [
        {
          "output_type": "execute_result",
          "data": {
            "text/plain": [
              "array(['Lyft', 'Uber'], dtype=object)"
            ]
          },
          "metadata": {
            "tags": []
          },
          "execution_count": 24
        }
      ]
    },
    {
      "cell_type": "code",
      "metadata": {
        "id": "B1nj7gO_WQyq",
        "colab_type": "code",
        "colab": {
          "base_uri": "https://localhost:8080/",
          "height": 138
        },
        "outputId": "a20c11fd-40ae-48df-bd86-855a9356fc27"
      },
      "source": [
        "car_df.product_id.unique()"
      ],
      "execution_count": null,
      "outputs": [
        {
          "output_type": "execute_result",
          "data": {
            "text/plain": [
              "array(['lyft_line', 'lyft_premier', 'lyft', 'lyft_luxsuv', 'lyft_plus',\n",
              "       'lyft_lux', '6f72dfc5-27f1-42e8-84db-ccc7a75f6969',\n",
              "       '6c84fd89-3f11-4782-9b50-97c468b19529',\n",
              "       '55c66225-fbe7-4fd5-9072-eab1ece5e23e',\n",
              "       '9a0e7b09-b92b-4c41-9779-2ad22b4d779d',\n",
              "       '6d318bcc-22a3-4af6-bddd-b409bfce1546',\n",
              "       '997acbb5-e102-41e1-b155-9df7de0a73f2'], dtype=object)"
            ]
          },
          "metadata": {
            "tags": []
          },
          "execution_count": 25
        }
      ]
    },
    {
      "cell_type": "code",
      "metadata": {
        "id": "dfajaFQnWfnV",
        "colab_type": "code",
        "colab": {
          "base_uri": "https://localhost:8080/",
          "height": 69
        },
        "outputId": "1d5bdc99-e945-47b6-d57f-8d6826e728b3"
      },
      "source": [
        "car_df.name.unique()"
      ],
      "execution_count": null,
      "outputs": [
        {
          "output_type": "execute_result",
          "data": {
            "text/plain": [
              "array(['Shared', 'Lux', 'Lyft', 'Lux Black XL', 'Lyft XL', 'Lux Black',\n",
              "       'UberXL', 'Black', 'UberX', 'WAV', 'Black SUV', 'UberPool'],\n",
              "      dtype=object)"
            ]
          },
          "metadata": {
            "tags": []
          },
          "execution_count": 26
        }
      ]
    },
    {
      "cell_type": "code",
      "metadata": {
        "id": "EMLlEUxNXChl",
        "colab_type": "code",
        "colab": {}
      },
      "source": [
        "# Convert timestamp column to datetime\n",
        "car_df.time_stamp = pd.to_datetime(car_df.time_stamp)"
      ],
      "execution_count": null,
      "outputs": []
    },
    {
      "cell_type": "code",
      "metadata": {
        "id": "tN25ruVwX0Ia",
        "colab_type": "code",
        "colab": {
          "base_uri": "https://localhost:8080/",
          "height": 208
        },
        "outputId": "c0bfa7c0-9dfa-4daa-a155-04c0d7a0496a"
      },
      "source": [
        "car_df.dtypes"
      ],
      "execution_count": null,
      "outputs": [
        {
          "output_type": "execute_result",
          "data": {
            "text/plain": [
              "distance                   float64\n",
              "cab_type                    object\n",
              "time_stamp          datetime64[ns]\n",
              "destination                 object\n",
              "source                      object\n",
              "price                      float64\n",
              "surge_multiplier           float64\n",
              "id                          object\n",
              "product_id                  object\n",
              "name                        object\n",
              "dtype: object"
            ]
          },
          "metadata": {
            "tags": []
          },
          "execution_count": 28
        }
      ]
    },
    {
      "cell_type": "code",
      "metadata": {
        "id": "7NRkMjVfZDK6",
        "colab_type": "code",
        "colab": {}
      },
      "source": [
        "# Extract other columns from timestamp column\n",
        "car_df['date'] = car_df.time_stamp.dt.date"
      ],
      "execution_count": null,
      "outputs": []
    },
    {
      "cell_type": "code",
      "metadata": {
        "id": "SDZnxhdtac1O",
        "colab_type": "code",
        "colab": {}
      },
      "source": [
        "car_df['hour'] = car_df.time_stamp.dt.hour"
      ],
      "execution_count": null,
      "outputs": []
    },
    {
      "cell_type": "code",
      "metadata": {
        "id": "TxxWFwJoagRE",
        "colab_type": "code",
        "colab": {}
      },
      "source": [
        "car_df['day'] = car_df.time_stamp.dt.day_name()"
      ],
      "execution_count": null,
      "outputs": []
    },
    {
      "cell_type": "code",
      "metadata": {
        "id": "mv-9lqqDiRaF",
        "colab_type": "code",
        "colab": {}
      },
      "source": [
        "car_df['time'] = car_df.time_stamp.dt.time"
      ],
      "execution_count": null,
      "outputs": []
    },
    {
      "cell_type": "code",
      "metadata": {
        "id": "jxocndbZa80J",
        "colab_type": "code",
        "colab": {
          "base_uri": "https://localhost:8080/",
          "height": 202
        },
        "outputId": "420af37f-c929-4270-90e8-ba7a1bc457f9"
      },
      "source": [
        "car_df.head()"
      ],
      "execution_count": null,
      "outputs": [
        {
          "output_type": "execute_result",
          "data": {
            "text/html": [
              "<div>\n",
              "<style scoped>\n",
              "    .dataframe tbody tr th:only-of-type {\n",
              "        vertical-align: middle;\n",
              "    }\n",
              "\n",
              "    .dataframe tbody tr th {\n",
              "        vertical-align: top;\n",
              "    }\n",
              "\n",
              "    .dataframe thead th {\n",
              "        text-align: right;\n",
              "    }\n",
              "</style>\n",
              "<table border=\"1\" class=\"dataframe\">\n",
              "  <thead>\n",
              "    <tr style=\"text-align: right;\">\n",
              "      <th></th>\n",
              "      <th>distance</th>\n",
              "      <th>cab_type</th>\n",
              "      <th>time_stamp</th>\n",
              "      <th>destination</th>\n",
              "      <th>source</th>\n",
              "      <th>price</th>\n",
              "      <th>surge_multiplier</th>\n",
              "      <th>id</th>\n",
              "      <th>product_id</th>\n",
              "      <th>name</th>\n",
              "      <th>date</th>\n",
              "      <th>hour</th>\n",
              "      <th>day</th>\n",
              "      <th>time</th>\n",
              "    </tr>\n",
              "  </thead>\n",
              "  <tbody>\n",
              "    <tr>\n",
              "      <th>0</th>\n",
              "      <td>0.44</td>\n",
              "      <td>Lyft</td>\n",
              "      <td>2018-12-16 09:30:07.890</td>\n",
              "      <td>North Station</td>\n",
              "      <td>Haymarket Square</td>\n",
              "      <td>5.0</td>\n",
              "      <td>1.0</td>\n",
              "      <td>424553bb-7174-41ea-aeb4-fe06d4f4b9d7</td>\n",
              "      <td>lyft_line</td>\n",
              "      <td>Shared</td>\n",
              "      <td>2018-12-16</td>\n",
              "      <td>9</td>\n",
              "      <td>Sunday</td>\n",
              "      <td>09:30:07.890000</td>\n",
              "    </tr>\n",
              "    <tr>\n",
              "      <th>1</th>\n",
              "      <td>0.44</td>\n",
              "      <td>Lyft</td>\n",
              "      <td>2018-11-27 02:00:23.677</td>\n",
              "      <td>North Station</td>\n",
              "      <td>Haymarket Square</td>\n",
              "      <td>11.0</td>\n",
              "      <td>1.0</td>\n",
              "      <td>4bd23055-6827-41c6-b23b-3c491f24e74d</td>\n",
              "      <td>lyft_premier</td>\n",
              "      <td>Lux</td>\n",
              "      <td>2018-11-27</td>\n",
              "      <td>2</td>\n",
              "      <td>Tuesday</td>\n",
              "      <td>02:00:23.677000</td>\n",
              "    </tr>\n",
              "    <tr>\n",
              "      <th>2</th>\n",
              "      <td>0.44</td>\n",
              "      <td>Lyft</td>\n",
              "      <td>2018-11-28 01:00:22.198</td>\n",
              "      <td>North Station</td>\n",
              "      <td>Haymarket Square</td>\n",
              "      <td>7.0</td>\n",
              "      <td>1.0</td>\n",
              "      <td>981a3613-77af-4620-a42a-0c0866077d1e</td>\n",
              "      <td>lyft</td>\n",
              "      <td>Lyft</td>\n",
              "      <td>2018-11-28</td>\n",
              "      <td>1</td>\n",
              "      <td>Wednesday</td>\n",
              "      <td>01:00:22.198000</td>\n",
              "    </tr>\n",
              "    <tr>\n",
              "      <th>3</th>\n",
              "      <td>0.44</td>\n",
              "      <td>Lyft</td>\n",
              "      <td>2018-11-30 04:53:02.749</td>\n",
              "      <td>North Station</td>\n",
              "      <td>Haymarket Square</td>\n",
              "      <td>26.0</td>\n",
              "      <td>1.0</td>\n",
              "      <td>c2d88af2-d278-4bfd-a8d0-29ca77cc5512</td>\n",
              "      <td>lyft_luxsuv</td>\n",
              "      <td>Lux Black XL</td>\n",
              "      <td>2018-11-30</td>\n",
              "      <td>4</td>\n",
              "      <td>Friday</td>\n",
              "      <td>04:53:02.749000</td>\n",
              "    </tr>\n",
              "    <tr>\n",
              "      <th>4</th>\n",
              "      <td>0.44</td>\n",
              "      <td>Lyft</td>\n",
              "      <td>2018-11-29 03:49:20.223</td>\n",
              "      <td>North Station</td>\n",
              "      <td>Haymarket Square</td>\n",
              "      <td>9.0</td>\n",
              "      <td>1.0</td>\n",
              "      <td>e0126e1f-8ca9-4f2e-82b3-50505a09db9a</td>\n",
              "      <td>lyft_plus</td>\n",
              "      <td>Lyft XL</td>\n",
              "      <td>2018-11-29</td>\n",
              "      <td>3</td>\n",
              "      <td>Thursday</td>\n",
              "      <td>03:49:20.223000</td>\n",
              "    </tr>\n",
              "  </tbody>\n",
              "</table>\n",
              "</div>"
            ],
            "text/plain": [
              "   distance cab_type              time_stamp  ... hour        day             time\n",
              "0      0.44     Lyft 2018-12-16 09:30:07.890  ...    9     Sunday  09:30:07.890000\n",
              "1      0.44     Lyft 2018-11-27 02:00:23.677  ...    2    Tuesday  02:00:23.677000\n",
              "2      0.44     Lyft 2018-11-28 01:00:22.198  ...    1  Wednesday  01:00:22.198000\n",
              "3      0.44     Lyft 2018-11-30 04:53:02.749  ...    4     Friday  04:53:02.749000\n",
              "4      0.44     Lyft 2018-11-29 03:49:20.223  ...    3   Thursday  03:49:20.223000\n",
              "\n",
              "[5 rows x 14 columns]"
            ]
          },
          "metadata": {
            "tags": []
          },
          "execution_count": 33
        }
      ]
    },
    {
      "cell_type": "code",
      "metadata": {
        "id": "14tKWEGcbaud",
        "colab_type": "code",
        "colab": {}
      },
      "source": [
        "# Extract other columns from timestamp column in weather data\n",
        "weather_df.time_stamp = pd.to_datetime(weather_df.time_stamp)"
      ],
      "execution_count": null,
      "outputs": []
    },
    {
      "cell_type": "code",
      "metadata": {
        "id": "SbU5Nwvfckpe",
        "colab_type": "code",
        "colab": {}
      },
      "source": [
        "weather_df['date'] = weather_df.time_stamp.dt.date"
      ],
      "execution_count": null,
      "outputs": []
    },
    {
      "cell_type": "code",
      "metadata": {
        "id": "SQq8K7ptcxDm",
        "colab_type": "code",
        "colab": {}
      },
      "source": [
        "weather_df['hour'] = weather_df.time_stamp.dt.hour"
      ],
      "execution_count": null,
      "outputs": []
    },
    {
      "cell_type": "code",
      "metadata": {
        "id": "tvolKNfrdASj",
        "colab_type": "code",
        "colab": {}
      },
      "source": [
        "weather_df['day'] = weather_df.time_stamp.dt.day_name()"
      ],
      "execution_count": null,
      "outputs": []
    },
    {
      "cell_type": "code",
      "metadata": {
        "id": "WDE75jZMdKq4",
        "colab_type": "code",
        "colab": {
          "base_uri": "https://localhost:8080/",
          "height": 202
        },
        "outputId": "849d5fc7-b093-4bfd-e9f8-dc4d43897ddd"
      },
      "source": [
        "weather_df.head()"
      ],
      "execution_count": null,
      "outputs": [
        {
          "output_type": "execute_result",
          "data": {
            "text/html": [
              "<div>\n",
              "<style scoped>\n",
              "    .dataframe tbody tr th:only-of-type {\n",
              "        vertical-align: middle;\n",
              "    }\n",
              "\n",
              "    .dataframe tbody tr th {\n",
              "        vertical-align: top;\n",
              "    }\n",
              "\n",
              "    .dataframe thead th {\n",
              "        text-align: right;\n",
              "    }\n",
              "</style>\n",
              "<table border=\"1\" class=\"dataframe\">\n",
              "  <thead>\n",
              "    <tr style=\"text-align: right;\">\n",
              "      <th></th>\n",
              "      <th>temp</th>\n",
              "      <th>location</th>\n",
              "      <th>clouds</th>\n",
              "      <th>pressure</th>\n",
              "      <th>rain</th>\n",
              "      <th>time_stamp</th>\n",
              "      <th>humidity</th>\n",
              "      <th>wind</th>\n",
              "      <th>date</th>\n",
              "      <th>hour</th>\n",
              "      <th>day</th>\n",
              "    </tr>\n",
              "  </thead>\n",
              "  <tbody>\n",
              "    <tr>\n",
              "      <th>0</th>\n",
              "      <td>42.42</td>\n",
              "      <td>Back Bay</td>\n",
              "      <td>1.0</td>\n",
              "      <td>1012.14</td>\n",
              "      <td>0.1228</td>\n",
              "      <td>2018-12-16 23:45:01</td>\n",
              "      <td>0.77</td>\n",
              "      <td>11.25</td>\n",
              "      <td>2018-12-16</td>\n",
              "      <td>23</td>\n",
              "      <td>Sunday</td>\n",
              "    </tr>\n",
              "    <tr>\n",
              "      <th>1</th>\n",
              "      <td>42.43</td>\n",
              "      <td>Beacon Hill</td>\n",
              "      <td>1.0</td>\n",
              "      <td>1012.15</td>\n",
              "      <td>0.1846</td>\n",
              "      <td>2018-12-16 23:45:01</td>\n",
              "      <td>0.76</td>\n",
              "      <td>11.32</td>\n",
              "      <td>2018-12-16</td>\n",
              "      <td>23</td>\n",
              "      <td>Sunday</td>\n",
              "    </tr>\n",
              "    <tr>\n",
              "      <th>2</th>\n",
              "      <td>42.50</td>\n",
              "      <td>Boston University</td>\n",
              "      <td>1.0</td>\n",
              "      <td>1012.15</td>\n",
              "      <td>0.1089</td>\n",
              "      <td>2018-12-16 23:45:01</td>\n",
              "      <td>0.76</td>\n",
              "      <td>11.07</td>\n",
              "      <td>2018-12-16</td>\n",
              "      <td>23</td>\n",
              "      <td>Sunday</td>\n",
              "    </tr>\n",
              "    <tr>\n",
              "      <th>3</th>\n",
              "      <td>42.11</td>\n",
              "      <td>Fenway</td>\n",
              "      <td>1.0</td>\n",
              "      <td>1012.13</td>\n",
              "      <td>0.0969</td>\n",
              "      <td>2018-12-16 23:45:01</td>\n",
              "      <td>0.77</td>\n",
              "      <td>11.09</td>\n",
              "      <td>2018-12-16</td>\n",
              "      <td>23</td>\n",
              "      <td>Sunday</td>\n",
              "    </tr>\n",
              "    <tr>\n",
              "      <th>4</th>\n",
              "      <td>43.13</td>\n",
              "      <td>Financial District</td>\n",
              "      <td>1.0</td>\n",
              "      <td>1012.14</td>\n",
              "      <td>0.1786</td>\n",
              "      <td>2018-12-16 23:45:01</td>\n",
              "      <td>0.75</td>\n",
              "      <td>11.49</td>\n",
              "      <td>2018-12-16</td>\n",
              "      <td>23</td>\n",
              "      <td>Sunday</td>\n",
              "    </tr>\n",
              "  </tbody>\n",
              "</table>\n",
              "</div>"
            ],
            "text/plain": [
              "    temp            location  clouds  pressure  ...   wind        date  hour     day\n",
              "0  42.42            Back Bay     1.0   1012.14  ...  11.25  2018-12-16    23  Sunday\n",
              "1  42.43         Beacon Hill     1.0   1012.15  ...  11.32  2018-12-16    23  Sunday\n",
              "2  42.50   Boston University     1.0   1012.15  ...  11.07  2018-12-16    23  Sunday\n",
              "3  42.11              Fenway     1.0   1012.13  ...  11.09  2018-12-16    23  Sunday\n",
              "4  43.13  Financial District     1.0   1012.14  ...  11.49  2018-12-16    23  Sunday\n",
              "\n",
              "[5 rows x 11 columns]"
            ]
          },
          "metadata": {
            "tags": []
          },
          "execution_count": 38
        }
      ]
    },
    {
      "cell_type": "code",
      "metadata": {
        "id": "PNp82nQtdQ25",
        "colab_type": "code",
        "colab": {
          "base_uri": "https://localhost:8080/",
          "height": 589
        },
        "outputId": "3dcee177-fac1-4f78-8ac0-989d331fbcc3"
      },
      "source": [
        "car_df.sort_values(by=['date','hour'], ascending=False)"
      ],
      "execution_count": null,
      "outputs": [
        {
          "output_type": "execute_result",
          "data": {
            "text/html": [
              "<div>\n",
              "<style scoped>\n",
              "    .dataframe tbody tr th:only-of-type {\n",
              "        vertical-align: middle;\n",
              "    }\n",
              "\n",
              "    .dataframe tbody tr th {\n",
              "        vertical-align: top;\n",
              "    }\n",
              "\n",
              "    .dataframe thead th {\n",
              "        text-align: right;\n",
              "    }\n",
              "</style>\n",
              "<table border=\"1\" class=\"dataframe\">\n",
              "  <thead>\n",
              "    <tr style=\"text-align: right;\">\n",
              "      <th></th>\n",
              "      <th>distance</th>\n",
              "      <th>cab_type</th>\n",
              "      <th>time_stamp</th>\n",
              "      <th>destination</th>\n",
              "      <th>source</th>\n",
              "      <th>price</th>\n",
              "      <th>surge_multiplier</th>\n",
              "      <th>id</th>\n",
              "      <th>product_id</th>\n",
              "      <th>name</th>\n",
              "      <th>date</th>\n",
              "      <th>hour</th>\n",
              "      <th>day</th>\n",
              "      <th>time</th>\n",
              "    </tr>\n",
              "  </thead>\n",
              "  <tbody>\n",
              "    <tr>\n",
              "      <th>305</th>\n",
              "      <td>2.16</td>\n",
              "      <td>Lyft</td>\n",
              "      <td>2018-12-18 19:10:03.694</td>\n",
              "      <td>Back Bay</td>\n",
              "      <td>South Station</td>\n",
              "      <td>7.0</td>\n",
              "      <td>1.0</td>\n",
              "      <td>a3247e6e-d350-40a0-aa20-5a551679e461</td>\n",
              "      <td>lyft_line</td>\n",
              "      <td>Shared</td>\n",
              "      <td>2018-12-18</td>\n",
              "      <td>19</td>\n",
              "      <td>Tuesday</td>\n",
              "      <td>19:10:03.694000</td>\n",
              "    </tr>\n",
              "    <tr>\n",
              "      <th>1592</th>\n",
              "      <td>0.53</td>\n",
              "      <td>Lyft</td>\n",
              "      <td>2018-12-18 19:15:06.703</td>\n",
              "      <td>North Station</td>\n",
              "      <td>Haymarket Square</td>\n",
              "      <td>9.0</td>\n",
              "      <td>1.0</td>\n",
              "      <td>b83cffd5-e7d7-4ad4-b225-11d72570e888</td>\n",
              "      <td>lyft_plus</td>\n",
              "      <td>Lyft XL</td>\n",
              "      <td>2018-12-18</td>\n",
              "      <td>19</td>\n",
              "      <td>Tuesday</td>\n",
              "      <td>19:15:06.703000</td>\n",
              "    </tr>\n",
              "    <tr>\n",
              "      <th>1753</th>\n",
              "      <td>0.46</td>\n",
              "      <td>Lyft</td>\n",
              "      <td>2018-12-18 19:05:06.293</td>\n",
              "      <td>South Station</td>\n",
              "      <td>Financial District</td>\n",
              "      <td>7.0</td>\n",
              "      <td>1.0</td>\n",
              "      <td>678a2d85-d2db-4b9c-a19d-1ae02ec5ba77</td>\n",
              "      <td>lyft</td>\n",
              "      <td>Lyft</td>\n",
              "      <td>2018-12-18</td>\n",
              "      <td>19</td>\n",
              "      <td>Tuesday</td>\n",
              "      <td>19:05:06.293000</td>\n",
              "    </tr>\n",
              "    <tr>\n",
              "      <th>3749</th>\n",
              "      <td>4.44</td>\n",
              "      <td>Uber</td>\n",
              "      <td>2018-12-18 19:05:06.489</td>\n",
              "      <td>Boston University</td>\n",
              "      <td>Financial District</td>\n",
              "      <td>20.5</td>\n",
              "      <td>1.0</td>\n",
              "      <td>e4ac5d12-11be-47d0-be4e-f7cc1a2be777</td>\n",
              "      <td>6f72dfc5-27f1-42e8-84db-ccc7a75f6969</td>\n",
              "      <td>UberXL</td>\n",
              "      <td>2018-12-18</td>\n",
              "      <td>19</td>\n",
              "      <td>Tuesday</td>\n",
              "      <td>19:05:06.489000</td>\n",
              "    </tr>\n",
              "    <tr>\n",
              "      <th>6007</th>\n",
              "      <td>0.90</td>\n",
              "      <td>Lyft</td>\n",
              "      <td>2018-12-18 19:00:05.360</td>\n",
              "      <td>Haymarket Square</td>\n",
              "      <td>North Station</td>\n",
              "      <td>10.5</td>\n",
              "      <td>1.0</td>\n",
              "      <td>c9b5d515-a7d9-4d3c-9ef8-473df7d6d61e</td>\n",
              "      <td>lyft_plus</td>\n",
              "      <td>Lyft XL</td>\n",
              "      <td>2018-12-18</td>\n",
              "      <td>19</td>\n",
              "      <td>Tuesday</td>\n",
              "      <td>19:00:05.360000</td>\n",
              "    </tr>\n",
              "    <tr>\n",
              "      <th>...</th>\n",
              "      <td>...</td>\n",
              "      <td>...</td>\n",
              "      <td>...</td>\n",
              "      <td>...</td>\n",
              "      <td>...</td>\n",
              "      <td>...</td>\n",
              "      <td>...</td>\n",
              "      <td>...</td>\n",
              "      <td>...</td>\n",
              "      <td>...</td>\n",
              "      <td>...</td>\n",
              "      <td>...</td>\n",
              "      <td>...</td>\n",
              "      <td>...</td>\n",
              "    </tr>\n",
              "    <tr>\n",
              "      <th>594575</th>\n",
              "      <td>1.71</td>\n",
              "      <td>Uber</td>\n",
              "      <td>2018-11-26 03:40:47.227</td>\n",
              "      <td>West End</td>\n",
              "      <td>South Station</td>\n",
              "      <td>8.5</td>\n",
              "      <td>1.0</td>\n",
              "      <td>bfe653c6-c7f1-4202-9c6e-2f3e6ea6aca0</td>\n",
              "      <td>55c66225-fbe7-4fd5-9072-eab1ece5e23e</td>\n",
              "      <td>UberX</td>\n",
              "      <td>2018-11-26</td>\n",
              "      <td>3</td>\n",
              "      <td>Monday</td>\n",
              "      <td>03:40:47.227000</td>\n",
              "    </tr>\n",
              "    <tr>\n",
              "      <th>613926</th>\n",
              "      <td>2.71</td>\n",
              "      <td>Uber</td>\n",
              "      <td>2018-11-26 03:40:46.320</td>\n",
              "      <td>Fenway</td>\n",
              "      <td>Theatre District</td>\n",
              "      <td>32.0</td>\n",
              "      <td>1.0</td>\n",
              "      <td>6172077a-22de-481b-aae2-b5763c87a6c4</td>\n",
              "      <td>6f72dfc5-27f1-42e8-84db-ccc7a75f6969</td>\n",
              "      <td>UberXL</td>\n",
              "      <td>2018-11-26</td>\n",
              "      <td>3</td>\n",
              "      <td>Monday</td>\n",
              "      <td>03:40:46.320000</td>\n",
              "    </tr>\n",
              "    <tr>\n",
              "      <th>613927</th>\n",
              "      <td>2.71</td>\n",
              "      <td>Uber</td>\n",
              "      <td>2018-11-26 03:40:46.320</td>\n",
              "      <td>Fenway</td>\n",
              "      <td>Theatre District</td>\n",
              "      <td>19.5</td>\n",
              "      <td>1.0</td>\n",
              "      <td>8682f9bf-5cc0-4dfc-b8fe-4e22070d1684</td>\n",
              "      <td>55c66225-fbe7-4fd5-9072-eab1ece5e23e</td>\n",
              "      <td>UberX</td>\n",
              "      <td>2018-11-26</td>\n",
              "      <td>3</td>\n",
              "      <td>Monday</td>\n",
              "      <td>03:40:46.320000</td>\n",
              "    </tr>\n",
              "    <tr>\n",
              "      <th>658078</th>\n",
              "      <td>3.44</td>\n",
              "      <td>Uber</td>\n",
              "      <td>2018-11-26 03:40:47.023</td>\n",
              "      <td>Back Bay</td>\n",
              "      <td>South Station</td>\n",
              "      <td>21.5</td>\n",
              "      <td>1.0</td>\n",
              "      <td>14f69fcd-c958-4341-92dc-1590faf7142b</td>\n",
              "      <td>6f72dfc5-27f1-42e8-84db-ccc7a75f6969</td>\n",
              "      <td>UberXL</td>\n",
              "      <td>2018-11-26</td>\n",
              "      <td>3</td>\n",
              "      <td>Monday</td>\n",
              "      <td>03:40:47.023000</td>\n",
              "    </tr>\n",
              "    <tr>\n",
              "      <th>658079</th>\n",
              "      <td>3.44</td>\n",
              "      <td>Uber</td>\n",
              "      <td>2018-11-26 03:40:47.023</td>\n",
              "      <td>Back Bay</td>\n",
              "      <td>South Station</td>\n",
              "      <td>35.0</td>\n",
              "      <td>1.0</td>\n",
              "      <td>15172a6e-6be1-48ed-b6c4-f4eeff32ebdc</td>\n",
              "      <td>6d318bcc-22a3-4af6-bddd-b409bfce1546</td>\n",
              "      <td>Black SUV</td>\n",
              "      <td>2018-11-26</td>\n",
              "      <td>3</td>\n",
              "      <td>Monday</td>\n",
              "      <td>03:40:47.023000</td>\n",
              "    </tr>\n",
              "  </tbody>\n",
              "</table>\n",
              "<p>637976 rows × 14 columns</p>\n",
              "</div>"
            ],
            "text/plain": [
              "        distance cab_type  ...      day             time\n",
              "305         2.16     Lyft  ...  Tuesday  19:10:03.694000\n",
              "1592        0.53     Lyft  ...  Tuesday  19:15:06.703000\n",
              "1753        0.46     Lyft  ...  Tuesday  19:05:06.293000\n",
              "3749        4.44     Uber  ...  Tuesday  19:05:06.489000\n",
              "6007        0.90     Lyft  ...  Tuesday  19:00:05.360000\n",
              "...          ...      ...  ...      ...              ...\n",
              "594575      1.71     Uber  ...   Monday  03:40:47.227000\n",
              "613926      2.71     Uber  ...   Monday  03:40:46.320000\n",
              "613927      2.71     Uber  ...   Monday  03:40:46.320000\n",
              "658078      3.44     Uber  ...   Monday  03:40:47.023000\n",
              "658079      3.44     Uber  ...   Monday  03:40:47.023000\n",
              "\n",
              "[637976 rows x 14 columns]"
            ]
          },
          "metadata": {
            "tags": []
          },
          "execution_count": 39
        }
      ]
    },
    {
      "cell_type": "markdown",
      "metadata": {
        "id": "Q0yDHPcoeaSb",
        "colab_type": "text"
      },
      "source": [
        "Ride dataset ranges from 26/11/2018 3:40 am to 18/12/2018 19:10 pm"
      ]
    },
    {
      "cell_type": "code",
      "metadata": {
        "id": "jZB-I1Lue88l",
        "colab_type": "code",
        "colab": {
          "base_uri": "https://localhost:8080/",
          "height": 416
        },
        "outputId": "9e79d6ea-98e3-4f04-96f5-f752bda58c5e"
      },
      "source": [
        "weather_df.sort_values(by=['date','hour'], ascending=False)"
      ],
      "execution_count": null,
      "outputs": [
        {
          "output_type": "execute_result",
          "data": {
            "text/html": [
              "<div>\n",
              "<style scoped>\n",
              "    .dataframe tbody tr th:only-of-type {\n",
              "        vertical-align: middle;\n",
              "    }\n",
              "\n",
              "    .dataframe tbody tr th {\n",
              "        vertical-align: top;\n",
              "    }\n",
              "\n",
              "    .dataframe thead th {\n",
              "        text-align: right;\n",
              "    }\n",
              "</style>\n",
              "<table border=\"1\" class=\"dataframe\">\n",
              "  <thead>\n",
              "    <tr style=\"text-align: right;\">\n",
              "      <th></th>\n",
              "      <th>temp</th>\n",
              "      <th>location</th>\n",
              "      <th>clouds</th>\n",
              "      <th>pressure</th>\n",
              "      <th>rain</th>\n",
              "      <th>time_stamp</th>\n",
              "      <th>humidity</th>\n",
              "      <th>wind</th>\n",
              "      <th>date</th>\n",
              "      <th>hour</th>\n",
              "      <th>day</th>\n",
              "    </tr>\n",
              "  </thead>\n",
              "  <tbody>\n",
              "    <tr>\n",
              "      <th>483</th>\n",
              "      <td>30.80</td>\n",
              "      <td>Beacon Hill</td>\n",
              "      <td>0.00</td>\n",
              "      <td>1012.32</td>\n",
              "      <td>0.0</td>\n",
              "      <td>2018-12-18 18:45:02</td>\n",
              "      <td>0.46</td>\n",
              "      <td>13.08</td>\n",
              "      <td>2018-12-18</td>\n",
              "      <td>18</td>\n",
              "      <td>Tuesday</td>\n",
              "    </tr>\n",
              "    <tr>\n",
              "      <th>484</th>\n",
              "      <td>30.96</td>\n",
              "      <td>Boston University</td>\n",
              "      <td>0.00</td>\n",
              "      <td>1012.35</td>\n",
              "      <td>0.0</td>\n",
              "      <td>2018-12-18 18:45:02</td>\n",
              "      <td>0.45</td>\n",
              "      <td>12.93</td>\n",
              "      <td>2018-12-18</td>\n",
              "      <td>18</td>\n",
              "      <td>Tuesday</td>\n",
              "    </tr>\n",
              "    <tr>\n",
              "      <th>485</th>\n",
              "      <td>30.93</td>\n",
              "      <td>Fenway</td>\n",
              "      <td>0.00</td>\n",
              "      <td>1012.35</td>\n",
              "      <td>0.0</td>\n",
              "      <td>2018-12-18 18:45:02</td>\n",
              "      <td>0.45</td>\n",
              "      <td>12.99</td>\n",
              "      <td>2018-12-18</td>\n",
              "      <td>18</td>\n",
              "      <td>Tuesday</td>\n",
              "    </tr>\n",
              "    <tr>\n",
              "      <th>486</th>\n",
              "      <td>31.19</td>\n",
              "      <td>Financial District</td>\n",
              "      <td>0.00</td>\n",
              "      <td>1012.31</td>\n",
              "      <td>0.0</td>\n",
              "      <td>2018-12-18 18:45:02</td>\n",
              "      <td>0.45</td>\n",
              "      <td>13.18</td>\n",
              "      <td>2018-12-18</td>\n",
              "      <td>18</td>\n",
              "      <td>Tuesday</td>\n",
              "    </tr>\n",
              "    <tr>\n",
              "      <th>487</th>\n",
              "      <td>30.83</td>\n",
              "      <td>North Station</td>\n",
              "      <td>0.00</td>\n",
              "      <td>1012.32</td>\n",
              "      <td>0.0</td>\n",
              "      <td>2018-12-18 18:45:02</td>\n",
              "      <td>0.46</td>\n",
              "      <td>13.09</td>\n",
              "      <td>2018-12-18</td>\n",
              "      <td>18</td>\n",
              "      <td>Tuesday</td>\n",
              "    </tr>\n",
              "    <tr>\n",
              "      <th>...</th>\n",
              "      <td>...</td>\n",
              "      <td>...</td>\n",
              "      <td>...</td>\n",
              "      <td>...</td>\n",
              "      <td>...</td>\n",
              "      <td>...</td>\n",
              "      <td>...</td>\n",
              "      <td>...</td>\n",
              "      <td>...</td>\n",
              "      <td>...</td>\n",
              "      <td>...</td>\n",
              "    </tr>\n",
              "    <tr>\n",
              "      <th>3999</th>\n",
              "      <td>41.02</td>\n",
              "      <td>Beacon Hill</td>\n",
              "      <td>0.87</td>\n",
              "      <td>1014.39</td>\n",
              "      <td>0.0</td>\n",
              "      <td>2018-11-26 03:40:45</td>\n",
              "      <td>0.92</td>\n",
              "      <td>1.50</td>\n",
              "      <td>2018-11-26</td>\n",
              "      <td>3</td>\n",
              "      <td>Monday</td>\n",
              "    </tr>\n",
              "    <tr>\n",
              "      <th>4000</th>\n",
              "      <td>41.07</td>\n",
              "      <td>Boston University</td>\n",
              "      <td>0.86</td>\n",
              "      <td>1014.39</td>\n",
              "      <td>0.0</td>\n",
              "      <td>2018-11-26 03:40:45</td>\n",
              "      <td>0.92</td>\n",
              "      <td>1.36</td>\n",
              "      <td>2018-11-26</td>\n",
              "      <td>3</td>\n",
              "      <td>Monday</td>\n",
              "    </tr>\n",
              "    <tr>\n",
              "      <th>4001</th>\n",
              "      <td>40.95</td>\n",
              "      <td>Financial District</td>\n",
              "      <td>0.89</td>\n",
              "      <td>1014.35</td>\n",
              "      <td>0.0</td>\n",
              "      <td>2018-11-26 03:40:45</td>\n",
              "      <td>0.93</td>\n",
              "      <td>1.49</td>\n",
              "      <td>2018-11-26</td>\n",
              "      <td>3</td>\n",
              "      <td>Monday</td>\n",
              "    </tr>\n",
              "    <tr>\n",
              "      <th>4002</th>\n",
              "      <td>40.94</td>\n",
              "      <td>North Station</td>\n",
              "      <td>0.89</td>\n",
              "      <td>1014.35</td>\n",
              "      <td>0.0</td>\n",
              "      <td>2018-11-26 03:40:45</td>\n",
              "      <td>0.92</td>\n",
              "      <td>1.43</td>\n",
              "      <td>2018-11-26</td>\n",
              "      <td>3</td>\n",
              "      <td>Monday</td>\n",
              "    </tr>\n",
              "    <tr>\n",
              "      <th>4003</th>\n",
              "      <td>40.80</td>\n",
              "      <td>Theatre District</td>\n",
              "      <td>0.87</td>\n",
              "      <td>1014.39</td>\n",
              "      <td>0.0</td>\n",
              "      <td>2018-11-26 03:40:45</td>\n",
              "      <td>0.93</td>\n",
              "      <td>1.55</td>\n",
              "      <td>2018-11-26</td>\n",
              "      <td>3</td>\n",
              "      <td>Monday</td>\n",
              "    </tr>\n",
              "  </tbody>\n",
              "</table>\n",
              "<p>6276 rows × 11 columns</p>\n",
              "</div>"
            ],
            "text/plain": [
              "       temp            location  clouds  ...        date  hour      day\n",
              "483   30.80         Beacon Hill    0.00  ...  2018-12-18    18  Tuesday\n",
              "484   30.96   Boston University    0.00  ...  2018-12-18    18  Tuesday\n",
              "485   30.93              Fenway    0.00  ...  2018-12-18    18  Tuesday\n",
              "486   31.19  Financial District    0.00  ...  2018-12-18    18  Tuesday\n",
              "487   30.83       North Station    0.00  ...  2018-12-18    18  Tuesday\n",
              "...     ...                 ...     ...  ...         ...   ...      ...\n",
              "3999  41.02         Beacon Hill    0.87  ...  2018-11-26     3   Monday\n",
              "4000  41.07   Boston University    0.86  ...  2018-11-26     3   Monday\n",
              "4001  40.95  Financial District    0.89  ...  2018-11-26     3   Monday\n",
              "4002  40.94       North Station    0.89  ...  2018-11-26     3   Monday\n",
              "4003  40.80    Theatre District    0.87  ...  2018-11-26     3   Monday\n",
              "\n",
              "[6276 rows x 11 columns]"
            ]
          },
          "metadata": {
            "tags": []
          },
          "execution_count": 40
        }
      ]
    },
    {
      "cell_type": "markdown",
      "metadata": {
        "id": "G-LKfShRffYF",
        "colab_type": "text"
      },
      "source": [
        "Weather dataset ranges from 26/11/2018 3:40 am to 18/12/2018 18:45 pm"
      ]
    },
    {
      "cell_type": "code",
      "metadata": {
        "id": "S81bbqqtfQ5Z",
        "colab_type": "code",
        "colab": {}
      },
      "source": [
        "# Group time periods to parts of the day\n",
        "car_df['early_morning'] = (car_df.hour >= 5) & (car_df.hour <= 8) "
      ],
      "execution_count": null,
      "outputs": []
    },
    {
      "cell_type": "code",
      "metadata": {
        "id": "Czw04cvBj5uP",
        "colab_type": "code",
        "colab": {}
      },
      "source": [
        "car_df.early_morning = car_df.early_morning.apply(np.int)"
      ],
      "execution_count": null,
      "outputs": []
    },
    {
      "cell_type": "code",
      "metadata": {
        "id": "vq-EMAfhmPpQ",
        "colab_type": "code",
        "colab": {}
      },
      "source": [
        "car_df['late_morning'] = (car_df.hour >= 9) & (car_df.hour <=11 ) "
      ],
      "execution_count": null,
      "outputs": []
    },
    {
      "cell_type": "code",
      "metadata": {
        "id": "X7qx6ulLmjw6",
        "colab_type": "code",
        "colab": {}
      },
      "source": [
        "car_df.late_morning = car_df.late_morning.apply(np.int)"
      ],
      "execution_count": null,
      "outputs": []
    },
    {
      "cell_type": "code",
      "metadata": {
        "id": "3-jCrU8tnnU3",
        "colab_type": "code",
        "colab": {}
      },
      "source": [
        "car_df['lunch_hours'] = (car_df.hour >= 12) & (car_df.hour <= 13) "
      ],
      "execution_count": null,
      "outputs": []
    },
    {
      "cell_type": "code",
      "metadata": {
        "id": "YzP98dRen05g",
        "colab_type": "code",
        "colab": {}
      },
      "source": [
        "car_df.lunch_hours = car_df.lunch_hours.apply(np.int)"
      ],
      "execution_count": null,
      "outputs": []
    },
    {
      "cell_type": "code",
      "metadata": {
        "id": "abi5AUWwoELk",
        "colab_type": "code",
        "colab": {}
      },
      "source": [
        "car_df['afternoon'] = (car_df.hour >= 14) & (car_df.hour <= 15) "
      ],
      "execution_count": null,
      "outputs": []
    },
    {
      "cell_type": "code",
      "metadata": {
        "id": "D-v8ack8ouBu",
        "colab_type": "code",
        "colab": {}
      },
      "source": [
        "car_df.afternoon = car_df.afternoon.apply(np.int)"
      ],
      "execution_count": null,
      "outputs": []
    },
    {
      "cell_type": "code",
      "metadata": {
        "id": "sJ8jjecvo7hB",
        "colab_type": "code",
        "colab": {}
      },
      "source": [
        "car_df['rush_hours'] = (car_df.hour >= 16) & (car_df.hour <= 19)"
      ],
      "execution_count": null,
      "outputs": []
    },
    {
      "cell_type": "code",
      "metadata": {
        "id": "AZiZLrvwpN_8",
        "colab_type": "code",
        "colab": {}
      },
      "source": [
        "car_df['night'] = (car_df.hour >= 20) | ((car_df.hour >= 0 ) & (car_df.hour <= 4))"
      ],
      "execution_count": null,
      "outputs": []
    },
    {
      "cell_type": "code",
      "metadata": {
        "id": "p3mSZHXfq1Cd",
        "colab_type": "code",
        "colab": {}
      },
      "source": [
        "car_df.rush_hours = car_df.rush_hours.apply(np.int)\n",
        "car_df.night = car_df.night.apply(np.int)\n"
      ],
      "execution_count": null,
      "outputs": []
    },
    {
      "cell_type": "code",
      "metadata": {
        "id": "LvFzKEGJq8-1",
        "colab_type": "code",
        "colab": {
          "base_uri": "https://localhost:8080/",
          "height": 921
        },
        "outputId": "6d0f0ac3-9b1f-4507-d483-48e208831721"
      },
      "source": [
        "car_df.sort_values(by=['date','hour'], ascending=False)"
      ],
      "execution_count": null,
      "outputs": [
        {
          "output_type": "execute_result",
          "data": {
            "text/html": [
              "<div>\n",
              "<style scoped>\n",
              "    .dataframe tbody tr th:only-of-type {\n",
              "        vertical-align: middle;\n",
              "    }\n",
              "\n",
              "    .dataframe tbody tr th {\n",
              "        vertical-align: top;\n",
              "    }\n",
              "\n",
              "    .dataframe thead th {\n",
              "        text-align: right;\n",
              "    }\n",
              "</style>\n",
              "<table border=\"1\" class=\"dataframe\">\n",
              "  <thead>\n",
              "    <tr style=\"text-align: right;\">\n",
              "      <th></th>\n",
              "      <th>distance</th>\n",
              "      <th>cab_type</th>\n",
              "      <th>time_stamp</th>\n",
              "      <th>destination</th>\n",
              "      <th>source</th>\n",
              "      <th>price</th>\n",
              "      <th>surge_multiplier</th>\n",
              "      <th>id</th>\n",
              "      <th>product_id</th>\n",
              "      <th>name</th>\n",
              "      <th>date</th>\n",
              "      <th>hour</th>\n",
              "      <th>day</th>\n",
              "      <th>time</th>\n",
              "      <th>early_morning</th>\n",
              "      <th>late_morning</th>\n",
              "      <th>lunch_hours</th>\n",
              "      <th>afternoon</th>\n",
              "      <th>rush_hours</th>\n",
              "      <th>night</th>\n",
              "    </tr>\n",
              "  </thead>\n",
              "  <tbody>\n",
              "    <tr>\n",
              "      <th>305</th>\n",
              "      <td>2.16</td>\n",
              "      <td>Lyft</td>\n",
              "      <td>2018-12-18 19:10:03.694</td>\n",
              "      <td>Back Bay</td>\n",
              "      <td>South Station</td>\n",
              "      <td>7.0</td>\n",
              "      <td>1.0</td>\n",
              "      <td>a3247e6e-d350-40a0-aa20-5a551679e461</td>\n",
              "      <td>lyft_line</td>\n",
              "      <td>Shared</td>\n",
              "      <td>2018-12-18</td>\n",
              "      <td>19</td>\n",
              "      <td>Tuesday</td>\n",
              "      <td>19:10:03.694000</td>\n",
              "      <td>0</td>\n",
              "      <td>0</td>\n",
              "      <td>0</td>\n",
              "      <td>0</td>\n",
              "      <td>1</td>\n",
              "      <td>0</td>\n",
              "    </tr>\n",
              "    <tr>\n",
              "      <th>1592</th>\n",
              "      <td>0.53</td>\n",
              "      <td>Lyft</td>\n",
              "      <td>2018-12-18 19:15:06.703</td>\n",
              "      <td>North Station</td>\n",
              "      <td>Haymarket Square</td>\n",
              "      <td>9.0</td>\n",
              "      <td>1.0</td>\n",
              "      <td>b83cffd5-e7d7-4ad4-b225-11d72570e888</td>\n",
              "      <td>lyft_plus</td>\n",
              "      <td>Lyft XL</td>\n",
              "      <td>2018-12-18</td>\n",
              "      <td>19</td>\n",
              "      <td>Tuesday</td>\n",
              "      <td>19:15:06.703000</td>\n",
              "      <td>0</td>\n",
              "      <td>0</td>\n",
              "      <td>0</td>\n",
              "      <td>0</td>\n",
              "      <td>1</td>\n",
              "      <td>0</td>\n",
              "    </tr>\n",
              "    <tr>\n",
              "      <th>1753</th>\n",
              "      <td>0.46</td>\n",
              "      <td>Lyft</td>\n",
              "      <td>2018-12-18 19:05:06.293</td>\n",
              "      <td>South Station</td>\n",
              "      <td>Financial District</td>\n",
              "      <td>7.0</td>\n",
              "      <td>1.0</td>\n",
              "      <td>678a2d85-d2db-4b9c-a19d-1ae02ec5ba77</td>\n",
              "      <td>lyft</td>\n",
              "      <td>Lyft</td>\n",
              "      <td>2018-12-18</td>\n",
              "      <td>19</td>\n",
              "      <td>Tuesday</td>\n",
              "      <td>19:05:06.293000</td>\n",
              "      <td>0</td>\n",
              "      <td>0</td>\n",
              "      <td>0</td>\n",
              "      <td>0</td>\n",
              "      <td>1</td>\n",
              "      <td>0</td>\n",
              "    </tr>\n",
              "    <tr>\n",
              "      <th>3749</th>\n",
              "      <td>4.44</td>\n",
              "      <td>Uber</td>\n",
              "      <td>2018-12-18 19:05:06.489</td>\n",
              "      <td>Boston University</td>\n",
              "      <td>Financial District</td>\n",
              "      <td>20.5</td>\n",
              "      <td>1.0</td>\n",
              "      <td>e4ac5d12-11be-47d0-be4e-f7cc1a2be777</td>\n",
              "      <td>6f72dfc5-27f1-42e8-84db-ccc7a75f6969</td>\n",
              "      <td>UberXL</td>\n",
              "      <td>2018-12-18</td>\n",
              "      <td>19</td>\n",
              "      <td>Tuesday</td>\n",
              "      <td>19:05:06.489000</td>\n",
              "      <td>0</td>\n",
              "      <td>0</td>\n",
              "      <td>0</td>\n",
              "      <td>0</td>\n",
              "      <td>1</td>\n",
              "      <td>0</td>\n",
              "    </tr>\n",
              "    <tr>\n",
              "      <th>6007</th>\n",
              "      <td>0.90</td>\n",
              "      <td>Lyft</td>\n",
              "      <td>2018-12-18 19:00:05.360</td>\n",
              "      <td>Haymarket Square</td>\n",
              "      <td>North Station</td>\n",
              "      <td>10.5</td>\n",
              "      <td>1.0</td>\n",
              "      <td>c9b5d515-a7d9-4d3c-9ef8-473df7d6d61e</td>\n",
              "      <td>lyft_plus</td>\n",
              "      <td>Lyft XL</td>\n",
              "      <td>2018-12-18</td>\n",
              "      <td>19</td>\n",
              "      <td>Tuesday</td>\n",
              "      <td>19:00:05.360000</td>\n",
              "      <td>0</td>\n",
              "      <td>0</td>\n",
              "      <td>0</td>\n",
              "      <td>0</td>\n",
              "      <td>1</td>\n",
              "      <td>0</td>\n",
              "    </tr>\n",
              "    <tr>\n",
              "      <th>...</th>\n",
              "      <td>...</td>\n",
              "      <td>...</td>\n",
              "      <td>...</td>\n",
              "      <td>...</td>\n",
              "      <td>...</td>\n",
              "      <td>...</td>\n",
              "      <td>...</td>\n",
              "      <td>...</td>\n",
              "      <td>...</td>\n",
              "      <td>...</td>\n",
              "      <td>...</td>\n",
              "      <td>...</td>\n",
              "      <td>...</td>\n",
              "      <td>...</td>\n",
              "      <td>...</td>\n",
              "      <td>...</td>\n",
              "      <td>...</td>\n",
              "      <td>...</td>\n",
              "      <td>...</td>\n",
              "      <td>...</td>\n",
              "    </tr>\n",
              "    <tr>\n",
              "      <th>594575</th>\n",
              "      <td>1.71</td>\n",
              "      <td>Uber</td>\n",
              "      <td>2018-11-26 03:40:47.227</td>\n",
              "      <td>West End</td>\n",
              "      <td>South Station</td>\n",
              "      <td>8.5</td>\n",
              "      <td>1.0</td>\n",
              "      <td>bfe653c6-c7f1-4202-9c6e-2f3e6ea6aca0</td>\n",
              "      <td>55c66225-fbe7-4fd5-9072-eab1ece5e23e</td>\n",
              "      <td>UberX</td>\n",
              "      <td>2018-11-26</td>\n",
              "      <td>3</td>\n",
              "      <td>Monday</td>\n",
              "      <td>03:40:47.227000</td>\n",
              "      <td>0</td>\n",
              "      <td>0</td>\n",
              "      <td>0</td>\n",
              "      <td>0</td>\n",
              "      <td>0</td>\n",
              "      <td>1</td>\n",
              "    </tr>\n",
              "    <tr>\n",
              "      <th>613926</th>\n",
              "      <td>2.71</td>\n",
              "      <td>Uber</td>\n",
              "      <td>2018-11-26 03:40:46.320</td>\n",
              "      <td>Fenway</td>\n",
              "      <td>Theatre District</td>\n",
              "      <td>32.0</td>\n",
              "      <td>1.0</td>\n",
              "      <td>6172077a-22de-481b-aae2-b5763c87a6c4</td>\n",
              "      <td>6f72dfc5-27f1-42e8-84db-ccc7a75f6969</td>\n",
              "      <td>UberXL</td>\n",
              "      <td>2018-11-26</td>\n",
              "      <td>3</td>\n",
              "      <td>Monday</td>\n",
              "      <td>03:40:46.320000</td>\n",
              "      <td>0</td>\n",
              "      <td>0</td>\n",
              "      <td>0</td>\n",
              "      <td>0</td>\n",
              "      <td>0</td>\n",
              "      <td>1</td>\n",
              "    </tr>\n",
              "    <tr>\n",
              "      <th>613927</th>\n",
              "      <td>2.71</td>\n",
              "      <td>Uber</td>\n",
              "      <td>2018-11-26 03:40:46.320</td>\n",
              "      <td>Fenway</td>\n",
              "      <td>Theatre District</td>\n",
              "      <td>19.5</td>\n",
              "      <td>1.0</td>\n",
              "      <td>8682f9bf-5cc0-4dfc-b8fe-4e22070d1684</td>\n",
              "      <td>55c66225-fbe7-4fd5-9072-eab1ece5e23e</td>\n",
              "      <td>UberX</td>\n",
              "      <td>2018-11-26</td>\n",
              "      <td>3</td>\n",
              "      <td>Monday</td>\n",
              "      <td>03:40:46.320000</td>\n",
              "      <td>0</td>\n",
              "      <td>0</td>\n",
              "      <td>0</td>\n",
              "      <td>0</td>\n",
              "      <td>0</td>\n",
              "      <td>1</td>\n",
              "    </tr>\n",
              "    <tr>\n",
              "      <th>658078</th>\n",
              "      <td>3.44</td>\n",
              "      <td>Uber</td>\n",
              "      <td>2018-11-26 03:40:47.023</td>\n",
              "      <td>Back Bay</td>\n",
              "      <td>South Station</td>\n",
              "      <td>21.5</td>\n",
              "      <td>1.0</td>\n",
              "      <td>14f69fcd-c958-4341-92dc-1590faf7142b</td>\n",
              "      <td>6f72dfc5-27f1-42e8-84db-ccc7a75f6969</td>\n",
              "      <td>UberXL</td>\n",
              "      <td>2018-11-26</td>\n",
              "      <td>3</td>\n",
              "      <td>Monday</td>\n",
              "      <td>03:40:47.023000</td>\n",
              "      <td>0</td>\n",
              "      <td>0</td>\n",
              "      <td>0</td>\n",
              "      <td>0</td>\n",
              "      <td>0</td>\n",
              "      <td>1</td>\n",
              "    </tr>\n",
              "    <tr>\n",
              "      <th>658079</th>\n",
              "      <td>3.44</td>\n",
              "      <td>Uber</td>\n",
              "      <td>2018-11-26 03:40:47.023</td>\n",
              "      <td>Back Bay</td>\n",
              "      <td>South Station</td>\n",
              "      <td>35.0</td>\n",
              "      <td>1.0</td>\n",
              "      <td>15172a6e-6be1-48ed-b6c4-f4eeff32ebdc</td>\n",
              "      <td>6d318bcc-22a3-4af6-bddd-b409bfce1546</td>\n",
              "      <td>Black SUV</td>\n",
              "      <td>2018-11-26</td>\n",
              "      <td>3</td>\n",
              "      <td>Monday</td>\n",
              "      <td>03:40:47.023000</td>\n",
              "      <td>0</td>\n",
              "      <td>0</td>\n",
              "      <td>0</td>\n",
              "      <td>0</td>\n",
              "      <td>0</td>\n",
              "      <td>1</td>\n",
              "    </tr>\n",
              "  </tbody>\n",
              "</table>\n",
              "<p>637976 rows × 20 columns</p>\n",
              "</div>"
            ],
            "text/plain": [
              "        distance cab_type              time_stamp  ... afternoon rush_hours  night\n",
              "305         2.16     Lyft 2018-12-18 19:10:03.694  ...         0          1      0\n",
              "1592        0.53     Lyft 2018-12-18 19:15:06.703  ...         0          1      0\n",
              "1753        0.46     Lyft 2018-12-18 19:05:06.293  ...         0          1      0\n",
              "3749        4.44     Uber 2018-12-18 19:05:06.489  ...         0          1      0\n",
              "6007        0.90     Lyft 2018-12-18 19:00:05.360  ...         0          1      0\n",
              "...          ...      ...                     ...  ...       ...        ...    ...\n",
              "594575      1.71     Uber 2018-11-26 03:40:47.227  ...         0          0      1\n",
              "613926      2.71     Uber 2018-11-26 03:40:46.320  ...         0          0      1\n",
              "613927      2.71     Uber 2018-11-26 03:40:46.320  ...         0          0      1\n",
              "658078      3.44     Uber 2018-11-26 03:40:47.023  ...         0          0      1\n",
              "658079      3.44     Uber 2018-11-26 03:40:47.023  ...         0          0      1\n",
              "\n",
              "[637976 rows x 20 columns]"
            ]
          },
          "metadata": {
            "tags": []
          },
          "execution_count": 52
        }
      ]
    },
    {
      "cell_type": "code",
      "metadata": {
        "id": "NhVzVR7trpFK",
        "colab_type": "code",
        "colab": {}
      },
      "source": [
        "# Derive other variable\n",
        "car_df['day_of_week'] = car_df.time_stamp.dt.dayofweek"
      ],
      "execution_count": null,
      "outputs": []
    },
    {
      "cell_type": "code",
      "metadata": {
        "id": "JzWkmb_JshaD",
        "colab_type": "code",
        "colab": {}
      },
      "source": [
        "#Identify if day is a weekend or not: 0 - 4 weekdays, 5 - 6 weekends\n",
        "car_df['weekday'] = (car_df.day_of_week >= 0) & (car_df.day_of_week <= 4)\n",
        "car_df['weekend'] = (car_df.day_of_week >= 5) & (car_df.day_of_week <= 6)"
      ],
      "execution_count": null,
      "outputs": []
    },
    {
      "cell_type": "code",
      "metadata": {
        "id": "uCt7AkXTv2IB",
        "colab_type": "code",
        "colab": {}
      },
      "source": [
        "car_df.weekday = car_df.weekday.apply(np.int)\n",
        "car_df.weekend = car_df.weekend.apply(np.int)"
      ],
      "execution_count": null,
      "outputs": []
    },
    {
      "cell_type": "code",
      "metadata": {
        "id": "VW47zKru3UZv",
        "colab_type": "code",
        "colab": {
          "base_uri": "https://localhost:8080/",
          "height": 482
        },
        "outputId": "7371a980-0fcb-4be3-ea45-e750d5c10a68"
      },
      "source": [
        "car_df.head()"
      ],
      "execution_count": null,
      "outputs": [
        {
          "output_type": "execute_result",
          "data": {
            "text/html": [
              "<div>\n",
              "<style scoped>\n",
              "    .dataframe tbody tr th:only-of-type {\n",
              "        vertical-align: middle;\n",
              "    }\n",
              "\n",
              "    .dataframe tbody tr th {\n",
              "        vertical-align: top;\n",
              "    }\n",
              "\n",
              "    .dataframe thead th {\n",
              "        text-align: right;\n",
              "    }\n",
              "</style>\n",
              "<table border=\"1\" class=\"dataframe\">\n",
              "  <thead>\n",
              "    <tr style=\"text-align: right;\">\n",
              "      <th></th>\n",
              "      <th>distance</th>\n",
              "      <th>cab_type</th>\n",
              "      <th>time_stamp</th>\n",
              "      <th>destination</th>\n",
              "      <th>source</th>\n",
              "      <th>price</th>\n",
              "      <th>surge_multiplier</th>\n",
              "      <th>id</th>\n",
              "      <th>product_id</th>\n",
              "      <th>name</th>\n",
              "      <th>date</th>\n",
              "      <th>hour</th>\n",
              "      <th>day</th>\n",
              "      <th>time</th>\n",
              "      <th>early_morning</th>\n",
              "      <th>late_morning</th>\n",
              "      <th>lunch_hours</th>\n",
              "      <th>afternoon</th>\n",
              "      <th>rush_hours</th>\n",
              "      <th>night</th>\n",
              "      <th>day_of_week</th>\n",
              "      <th>weekday</th>\n",
              "      <th>weekend</th>\n",
              "    </tr>\n",
              "  </thead>\n",
              "  <tbody>\n",
              "    <tr>\n",
              "      <th>0</th>\n",
              "      <td>0.44</td>\n",
              "      <td>Lyft</td>\n",
              "      <td>2018-12-16 09:30:07.890</td>\n",
              "      <td>North Station</td>\n",
              "      <td>Haymarket Square</td>\n",
              "      <td>5.0</td>\n",
              "      <td>1.0</td>\n",
              "      <td>424553bb-7174-41ea-aeb4-fe06d4f4b9d7</td>\n",
              "      <td>lyft_line</td>\n",
              "      <td>Shared</td>\n",
              "      <td>2018-12-16</td>\n",
              "      <td>9</td>\n",
              "      <td>Sunday</td>\n",
              "      <td>09:30:07.890000</td>\n",
              "      <td>0</td>\n",
              "      <td>1</td>\n",
              "      <td>0</td>\n",
              "      <td>0</td>\n",
              "      <td>0</td>\n",
              "      <td>0</td>\n",
              "      <td>6</td>\n",
              "      <td>0</td>\n",
              "      <td>1</td>\n",
              "    </tr>\n",
              "    <tr>\n",
              "      <th>1</th>\n",
              "      <td>0.44</td>\n",
              "      <td>Lyft</td>\n",
              "      <td>2018-11-27 02:00:23.677</td>\n",
              "      <td>North Station</td>\n",
              "      <td>Haymarket Square</td>\n",
              "      <td>11.0</td>\n",
              "      <td>1.0</td>\n",
              "      <td>4bd23055-6827-41c6-b23b-3c491f24e74d</td>\n",
              "      <td>lyft_premier</td>\n",
              "      <td>Lux</td>\n",
              "      <td>2018-11-27</td>\n",
              "      <td>2</td>\n",
              "      <td>Tuesday</td>\n",
              "      <td>02:00:23.677000</td>\n",
              "      <td>0</td>\n",
              "      <td>0</td>\n",
              "      <td>0</td>\n",
              "      <td>0</td>\n",
              "      <td>0</td>\n",
              "      <td>1</td>\n",
              "      <td>1</td>\n",
              "      <td>1</td>\n",
              "      <td>0</td>\n",
              "    </tr>\n",
              "    <tr>\n",
              "      <th>2</th>\n",
              "      <td>0.44</td>\n",
              "      <td>Lyft</td>\n",
              "      <td>2018-11-28 01:00:22.198</td>\n",
              "      <td>North Station</td>\n",
              "      <td>Haymarket Square</td>\n",
              "      <td>7.0</td>\n",
              "      <td>1.0</td>\n",
              "      <td>981a3613-77af-4620-a42a-0c0866077d1e</td>\n",
              "      <td>lyft</td>\n",
              "      <td>Lyft</td>\n",
              "      <td>2018-11-28</td>\n",
              "      <td>1</td>\n",
              "      <td>Wednesday</td>\n",
              "      <td>01:00:22.198000</td>\n",
              "      <td>0</td>\n",
              "      <td>0</td>\n",
              "      <td>0</td>\n",
              "      <td>0</td>\n",
              "      <td>0</td>\n",
              "      <td>1</td>\n",
              "      <td>2</td>\n",
              "      <td>1</td>\n",
              "      <td>0</td>\n",
              "    </tr>\n",
              "    <tr>\n",
              "      <th>3</th>\n",
              "      <td>0.44</td>\n",
              "      <td>Lyft</td>\n",
              "      <td>2018-11-30 04:53:02.749</td>\n",
              "      <td>North Station</td>\n",
              "      <td>Haymarket Square</td>\n",
              "      <td>26.0</td>\n",
              "      <td>1.0</td>\n",
              "      <td>c2d88af2-d278-4bfd-a8d0-29ca77cc5512</td>\n",
              "      <td>lyft_luxsuv</td>\n",
              "      <td>Lux Black XL</td>\n",
              "      <td>2018-11-30</td>\n",
              "      <td>4</td>\n",
              "      <td>Friday</td>\n",
              "      <td>04:53:02.749000</td>\n",
              "      <td>0</td>\n",
              "      <td>0</td>\n",
              "      <td>0</td>\n",
              "      <td>0</td>\n",
              "      <td>0</td>\n",
              "      <td>1</td>\n",
              "      <td>4</td>\n",
              "      <td>1</td>\n",
              "      <td>0</td>\n",
              "    </tr>\n",
              "    <tr>\n",
              "      <th>4</th>\n",
              "      <td>0.44</td>\n",
              "      <td>Lyft</td>\n",
              "      <td>2018-11-29 03:49:20.223</td>\n",
              "      <td>North Station</td>\n",
              "      <td>Haymarket Square</td>\n",
              "      <td>9.0</td>\n",
              "      <td>1.0</td>\n",
              "      <td>e0126e1f-8ca9-4f2e-82b3-50505a09db9a</td>\n",
              "      <td>lyft_plus</td>\n",
              "      <td>Lyft XL</td>\n",
              "      <td>2018-11-29</td>\n",
              "      <td>3</td>\n",
              "      <td>Thursday</td>\n",
              "      <td>03:49:20.223000</td>\n",
              "      <td>0</td>\n",
              "      <td>0</td>\n",
              "      <td>0</td>\n",
              "      <td>0</td>\n",
              "      <td>0</td>\n",
              "      <td>1</td>\n",
              "      <td>3</td>\n",
              "      <td>1</td>\n",
              "      <td>0</td>\n",
              "    </tr>\n",
              "  </tbody>\n",
              "</table>\n",
              "</div>"
            ],
            "text/plain": [
              "   distance cab_type              time_stamp  ... day_of_week weekday  weekend\n",
              "0      0.44     Lyft 2018-12-16 09:30:07.890  ...           6       0        1\n",
              "1      0.44     Lyft 2018-11-27 02:00:23.677  ...           1       1        0\n",
              "2      0.44     Lyft 2018-11-28 01:00:22.198  ...           2       1        0\n",
              "3      0.44     Lyft 2018-11-30 04:53:02.749  ...           4       1        0\n",
              "4      0.44     Lyft 2018-11-29 03:49:20.223  ...           3       1        0\n",
              "\n",
              "[5 rows x 23 columns]"
            ]
          },
          "metadata": {
            "tags": []
          },
          "execution_count": 56
        }
      ]
    },
    {
      "cell_type": "code",
      "metadata": {
        "id": "w9D2Bg0G-_z1",
        "colab_type": "code",
        "colab": {
          "base_uri": "https://localhost:8080/",
          "height": 34
        },
        "outputId": "be241513-ee33-4ad3-9d4b-06e6992b1545"
      },
      "source": [
        "car_df.surge_multiplier.unique()"
      ],
      "execution_count": null,
      "outputs": [
        {
          "output_type": "execute_result",
          "data": {
            "text/plain": [
              "array([1.  , 1.25, 2.5 , 2.  , 1.75, 1.5 , 3.  ])"
            ]
          },
          "metadata": {
            "tags": []
          },
          "execution_count": 57
        }
      ]
    },
    {
      "cell_type": "code",
      "metadata": {
        "id": "Trc-losD_MTA",
        "colab_type": "code",
        "colab": {}
      },
      "source": [
        "# Create dataframes to be loaded into sql tables\n",
        "CarData = car_df.drop(['id','product_id','name'], axis=1)\n",
        "WeatherData = weather_df"
      ],
      "execution_count": null,
      "outputs": []
    },
    {
      "cell_type": "code",
      "metadata": {
        "id": "cbCpN7kGMV02",
        "colab_type": "code",
        "colab": {}
      },
      "source": [
        "# Merge Data with Pandas as it may be too computationally expensive with SQL\n",
        "TripData = pd.merge(CarData, WeatherData, how='inner',left_on=['source','date','hour'],right_on=['location','date','hour'])"
      ],
      "execution_count": null,
      "outputs": []
    },
    {
      "cell_type": "code",
      "metadata": {
        "id": "qujhkeZfNuiW",
        "colab_type": "code",
        "colab": {}
      },
      "source": [
        "TripData.drop(['location','time_stamp_y','day_y'], axis=1, inplace=True)"
      ],
      "execution_count": null,
      "outputs": []
    },
    {
      "cell_type": "code",
      "metadata": {
        "id": "0H96FsKHAL4Y",
        "colab_type": "code",
        "colab": {
          "base_uri": "https://localhost:8080/",
          "height": 324
        },
        "outputId": "0705eed3-e94b-4c9f-b673-6a0f74c31d89"
      },
      "source": [
        "# Load data into sql\n",
        "%sql drop table if exists TripData\n",
        "%sql persist TripData\n",
        "%sql select * from TripData limit 5;"
      ],
      "execution_count": null,
      "outputs": [
        {
          "output_type": "stream",
          "text": [
            " * sqlite://\n",
            "Done.\n",
            " * sqlite://\n",
            " * sqlite://\n",
            "Done.\n"
          ],
          "name": "stdout"
        },
        {
          "output_type": "execute_result",
          "data": {
            "text/html": [
              "<table>\n",
              "    <tr>\n",
              "        <th>index</th>\n",
              "        <th>distance</th>\n",
              "        <th>cab_type</th>\n",
              "        <th>time_stamp_x</th>\n",
              "        <th>destination</th>\n",
              "        <th>source</th>\n",
              "        <th>price</th>\n",
              "        <th>surge_multiplier</th>\n",
              "        <th>date</th>\n",
              "        <th>hour</th>\n",
              "        <th>day_x</th>\n",
              "        <th>time</th>\n",
              "        <th>early_morning</th>\n",
              "        <th>late_morning</th>\n",
              "        <th>lunch_hours</th>\n",
              "        <th>afternoon</th>\n",
              "        <th>rush_hours</th>\n",
              "        <th>night</th>\n",
              "        <th>day_of_week</th>\n",
              "        <th>weekday</th>\n",
              "        <th>weekend</th>\n",
              "        <th>temp</th>\n",
              "        <th>clouds</th>\n",
              "        <th>pressure</th>\n",
              "        <th>rain</th>\n",
              "        <th>humidity</th>\n",
              "        <th>wind</th>\n",
              "    </tr>\n",
              "    <tr>\n",
              "        <td>0</td>\n",
              "        <td>0.44</td>\n",
              "        <td>Lyft</td>\n",
              "        <td>2018-12-16 09:30:07.890000</td>\n",
              "        <td>North Station</td>\n",
              "        <td>Haymarket Square</td>\n",
              "        <td>5.0</td>\n",
              "        <td>1.0</td>\n",
              "        <td>2018-12-16</td>\n",
              "        <td>9</td>\n",
              "        <td>Sunday</td>\n",
              "        <td>09:30:07.890000</td>\n",
              "        <td>0</td>\n",
              "        <td>1</td>\n",
              "        <td>0</td>\n",
              "        <td>0</td>\n",
              "        <td>0</td>\n",
              "        <td>0</td>\n",
              "        <td>6</td>\n",
              "        <td>0</td>\n",
              "        <td>1</td>\n",
              "        <td>38.46</td>\n",
              "        <td>0.29</td>\n",
              "        <td>1022.25</td>\n",
              "        <td>0.0</td>\n",
              "        <td>0.76</td>\n",
              "        <td>7.68</td>\n",
              "    </tr>\n",
              "    <tr>\n",
              "        <td>1</td>\n",
              "        <td>1.33</td>\n",
              "        <td>Lyft</td>\n",
              "        <td>2018-12-16 09:25:09.308000</td>\n",
              "        <td>Beacon Hill</td>\n",
              "        <td>Haymarket Square</td>\n",
              "        <td>7.0</td>\n",
              "        <td>1.0</td>\n",
              "        <td>2018-12-16</td>\n",
              "        <td>9</td>\n",
              "        <td>Sunday</td>\n",
              "        <td>09:25:09.308000</td>\n",
              "        <td>0</td>\n",
              "        <td>1</td>\n",
              "        <td>0</td>\n",
              "        <td>0</td>\n",
              "        <td>0</td>\n",
              "        <td>0</td>\n",
              "        <td>6</td>\n",
              "        <td>0</td>\n",
              "        <td>1</td>\n",
              "        <td>38.46</td>\n",
              "        <td>0.29</td>\n",
              "        <td>1022.25</td>\n",
              "        <td>0.0</td>\n",
              "        <td>0.76</td>\n",
              "        <td>7.68</td>\n",
              "    </tr>\n",
              "    <tr>\n",
              "        <td>2</td>\n",
              "        <td>0.53</td>\n",
              "        <td>Lyft</td>\n",
              "        <td>2018-12-16 09:05:09.578000</td>\n",
              "        <td>North Station</td>\n",
              "        <td>Haymarket Square</td>\n",
              "        <td>27.5</td>\n",
              "        <td>1.0</td>\n",
              "        <td>2018-12-16</td>\n",
              "        <td>9</td>\n",
              "        <td>Sunday</td>\n",
              "        <td>09:05:09.578000</td>\n",
              "        <td>0</td>\n",
              "        <td>1</td>\n",
              "        <td>0</td>\n",
              "        <td>0</td>\n",
              "        <td>0</td>\n",
              "        <td>0</td>\n",
              "        <td>6</td>\n",
              "        <td>0</td>\n",
              "        <td>1</td>\n",
              "        <td>38.46</td>\n",
              "        <td>0.29</td>\n",
              "        <td>1022.25</td>\n",
              "        <td>0.0</td>\n",
              "        <td>0.76</td>\n",
              "        <td>7.68</td>\n",
              "    </tr>\n",
              "    <tr>\n",
              "        <td>3</td>\n",
              "        <td>2.36</td>\n",
              "        <td>Lyft</td>\n",
              "        <td>2018-12-16 09:55:08.860000</td>\n",
              "        <td>Back Bay</td>\n",
              "        <td>Haymarket Square</td>\n",
              "        <td>7.0</td>\n",
              "        <td>1.0</td>\n",
              "        <td>2018-12-16</td>\n",
              "        <td>9</td>\n",
              "        <td>Sunday</td>\n",
              "        <td>09:55:08.860000</td>\n",
              "        <td>0</td>\n",
              "        <td>1</td>\n",
              "        <td>0</td>\n",
              "        <td>0</td>\n",
              "        <td>0</td>\n",
              "        <td>0</td>\n",
              "        <td>6</td>\n",
              "        <td>0</td>\n",
              "        <td>1</td>\n",
              "        <td>38.46</td>\n",
              "        <td>0.29</td>\n",
              "        <td>1022.25</td>\n",
              "        <td>0.0</td>\n",
              "        <td>0.76</td>\n",
              "        <td>7.68</td>\n",
              "    </tr>\n",
              "    <tr>\n",
              "        <td>4</td>\n",
              "        <td>0.62</td>\n",
              "        <td>Uber</td>\n",
              "        <td>2018-12-16 09:55:08.161000</td>\n",
              "        <td>West End</td>\n",
              "        <td>Haymarket Square</td>\n",
              "        <td>10.5</td>\n",
              "        <td>1.0</td>\n",
              "        <td>2018-12-16</td>\n",
              "        <td>9</td>\n",
              "        <td>Sunday</td>\n",
              "        <td>09:55:08.161000</td>\n",
              "        <td>0</td>\n",
              "        <td>1</td>\n",
              "        <td>0</td>\n",
              "        <td>0</td>\n",
              "        <td>0</td>\n",
              "        <td>0</td>\n",
              "        <td>6</td>\n",
              "        <td>0</td>\n",
              "        <td>1</td>\n",
              "        <td>38.46</td>\n",
              "        <td>0.29</td>\n",
              "        <td>1022.25</td>\n",
              "        <td>0.0</td>\n",
              "        <td>0.76</td>\n",
              "        <td>7.68</td>\n",
              "    </tr>\n",
              "</table>"
            ],
            "text/plain": [
              "[(0, 0.44, 'Lyft', '2018-12-16 09:30:07.890000', 'North Station', 'Haymarket Square', 5.0, 1.0, '2018-12-16', 9, 'Sunday', '09:30:07.890000', 0, 1, 0, 0, 0, 0, 6, 0, 1, 38.46, 0.29, 1022.25, 0.0, 0.76, 7.68),\n",
              " (1, 1.33, 'Lyft', '2018-12-16 09:25:09.308000', 'Beacon Hill', 'Haymarket Square', 7.0, 1.0, '2018-12-16', 9, 'Sunday', '09:25:09.308000', 0, 1, 0, 0, 0, 0, 6, 0, 1, 38.46, 0.29, 1022.25, 0.0, 0.76, 7.68),\n",
              " (2, 0.53, 'Lyft', '2018-12-16 09:05:09.578000', 'North Station', 'Haymarket Square', 27.5, 1.0, '2018-12-16', 9, 'Sunday', '09:05:09.578000', 0, 1, 0, 0, 0, 0, 6, 0, 1, 38.46, 0.29, 1022.25, 0.0, 0.76, 7.68),\n",
              " (3, 2.36, 'Lyft', '2018-12-16 09:55:08.860000', 'Back Bay', 'Haymarket Square', 7.0, 1.0, '2018-12-16', 9, 'Sunday', '09:55:08.860000', 0, 1, 0, 0, 0, 0, 6, 0, 1, 38.46, 0.29, 1022.25, 0.0, 0.76, 7.68),\n",
              " (4, 0.62, 'Uber', '2018-12-16 09:55:08.161000', 'West End', 'Haymarket Square', 10.5, 1.0, '2018-12-16', 9, 'Sunday', '09:55:08.161000', 0, 1, 0, 0, 0, 0, 6, 0, 1, 38.46, 0.29, 1022.25, 0.0, 0.76, 7.68)]"
            ]
          },
          "metadata": {
            "tags": []
          },
          "execution_count": 61
        }
      ]
    },
    {
      "cell_type": "markdown",
      "metadata": {
        "id": "Y9iNLOg5QI6Y",
        "colab_type": "text"
      },
      "source": [
        "## **Data Analysis**"
      ]
    },
    {
      "cell_type": "code",
      "metadata": {
        "id": "txUlwhB0TSqw",
        "colab_type": "code",
        "colab": {
          "base_uri": "https://localhost:8080/",
          "height": 202
        },
        "outputId": "f80da18d-91e6-4392-ccdc-5d7557c28058"
      },
      "source": [
        "# Average Price Per Day for both Uber and Lyft\n",
        "%%sql\n",
        "select day_x as Day, round(avg(price), 2) as 'Average Price'\n",
        "from TripData\n",
        "group by day_x\n",
        "order by avg(price) desc;"
      ],
      "execution_count": null,
      "outputs": [
        {
          "output_type": "stream",
          "text": [
            " * sqlite://\n",
            "Done.\n"
          ],
          "name": "stdout"
        },
        {
          "output_type": "execute_result",
          "data": {
            "text/html": [
              "<table>\n",
              "    <tr>\n",
              "        <th>Day</th>\n",
              "        <th>Average Price</th>\n",
              "    </tr>\n",
              "    <tr>\n",
              "        <td>Thursday</td>\n",
              "        <td>16.6</td>\n",
              "    </tr>\n",
              "    <tr>\n",
              "        <td>Tuesday</td>\n",
              "        <td>16.59</td>\n",
              "    </tr>\n",
              "    <tr>\n",
              "        <td>Sunday</td>\n",
              "        <td>16.58</td>\n",
              "    </tr>\n",
              "    <tr>\n",
              "        <td>Saturday</td>\n",
              "        <td>16.55</td>\n",
              "    </tr>\n",
              "    <tr>\n",
              "        <td>Wednesday</td>\n",
              "        <td>16.5</td>\n",
              "    </tr>\n",
              "    <tr>\n",
              "        <td>Monday</td>\n",
              "        <td>16.49</td>\n",
              "    </tr>\n",
              "    <tr>\n",
              "        <td>Friday</td>\n",
              "        <td>16.48</td>\n",
              "    </tr>\n",
              "</table>"
            ],
            "text/plain": [
              "[('Thursday', 16.6),\n",
              " ('Tuesday', 16.59),\n",
              " ('Sunday', 16.58),\n",
              " ('Saturday', 16.55),\n",
              " ('Wednesday', 16.5),\n",
              " ('Monday', 16.49),\n",
              " ('Friday', 16.48)]"
            ]
          },
          "metadata": {
            "tags": []
          },
          "execution_count": 62
        }
      ]
    },
    {
      "cell_type": "code",
      "metadata": {
        "id": "HGb4wAA8Qio0",
        "colab_type": "code",
        "colab": {
          "base_uri": "https://localhost:8080/",
          "height": 202
        },
        "outputId": "905294be-f41a-4039-d5b5-7bbc9059847d"
      },
      "source": [
        "# Average Price Per Day for Uber\n",
        "%%sql\n",
        "select day_x as Day, round(avg(price), 2) as 'Average Price'\n",
        "from TripData\n",
        "where cab_type == 'Uber'\n",
        "group by day_x\n",
        "order by avg(price) desc;"
      ],
      "execution_count": null,
      "outputs": [
        {
          "output_type": "stream",
          "text": [
            " * sqlite://\n",
            "Done.\n"
          ],
          "name": "stdout"
        },
        {
          "output_type": "execute_result",
          "data": {
            "text/html": [
              "<table>\n",
              "    <tr>\n",
              "        <th>Day</th>\n",
              "        <th>Average Price</th>\n",
              "    </tr>\n",
              "    <tr>\n",
              "        <td>Tuesday</td>\n",
              "        <td>15.88</td>\n",
              "    </tr>\n",
              "    <tr>\n",
              "        <td>Thursday</td>\n",
              "        <td>15.85</td>\n",
              "    </tr>\n",
              "    <tr>\n",
              "        <td>Sunday</td>\n",
              "        <td>15.83</td>\n",
              "    </tr>\n",
              "    <tr>\n",
              "        <td>Monday</td>\n",
              "        <td>15.78</td>\n",
              "    </tr>\n",
              "    <tr>\n",
              "        <td>Saturday</td>\n",
              "        <td>15.78</td>\n",
              "    </tr>\n",
              "    <tr>\n",
              "        <td>Wednesday</td>\n",
              "        <td>15.77</td>\n",
              "    </tr>\n",
              "    <tr>\n",
              "        <td>Friday</td>\n",
              "        <td>15.69</td>\n",
              "    </tr>\n",
              "</table>"
            ],
            "text/plain": [
              "[('Tuesday', 15.88),\n",
              " ('Thursday', 15.85),\n",
              " ('Sunday', 15.83),\n",
              " ('Monday', 15.78),\n",
              " ('Saturday', 15.78),\n",
              " ('Wednesday', 15.77),\n",
              " ('Friday', 15.69)]"
            ]
          },
          "metadata": {
            "tags": []
          },
          "execution_count": 63
        }
      ]
    },
    {
      "cell_type": "code",
      "metadata": {
        "id": "ABBi5nZcTv-A",
        "colab_type": "code",
        "colab": {
          "base_uri": "https://localhost:8080/",
          "height": 202
        },
        "outputId": "073115fc-fbd9-40a9-bb27-16b912180eb7"
      },
      "source": [
        "# Average Price Per Day for Lyft\n",
        "%%sql\n",
        "select day_x as Day, round(avg(price), 2) as 'Average Price'\n",
        "from TripData\n",
        "where cab_type == 'Lyft'\n",
        "group by day_x\n",
        "order by avg(price) desc;"
      ],
      "execution_count": null,
      "outputs": [
        {
          "output_type": "stream",
          "text": [
            " * sqlite://\n",
            "Done.\n"
          ],
          "name": "stdout"
        },
        {
          "output_type": "execute_result",
          "data": {
            "text/html": [
              "<table>\n",
              "    <tr>\n",
              "        <th>Day</th>\n",
              "        <th>Average Price</th>\n",
              "    </tr>\n",
              "    <tr>\n",
              "        <td>Thursday</td>\n",
              "        <td>17.4</td>\n",
              "    </tr>\n",
              "    <tr>\n",
              "        <td>Sunday</td>\n",
              "        <td>17.38</td>\n",
              "    </tr>\n",
              "    <tr>\n",
              "        <td>Saturday</td>\n",
              "        <td>17.37</td>\n",
              "    </tr>\n",
              "    <tr>\n",
              "        <td>Tuesday</td>\n",
              "        <td>17.35</td>\n",
              "    </tr>\n",
              "    <tr>\n",
              "        <td>Friday</td>\n",
              "        <td>17.32</td>\n",
              "    </tr>\n",
              "    <tr>\n",
              "        <td>Wednesday</td>\n",
              "        <td>17.28</td>\n",
              "    </tr>\n",
              "    <tr>\n",
              "        <td>Monday</td>\n",
              "        <td>17.26</td>\n",
              "    </tr>\n",
              "</table>"
            ],
            "text/plain": [
              "[('Thursday', 17.4),\n",
              " ('Sunday', 17.38),\n",
              " ('Saturday', 17.37),\n",
              " ('Tuesday', 17.35),\n",
              " ('Friday', 17.32),\n",
              " ('Wednesday', 17.28),\n",
              " ('Monday', 17.26)]"
            ]
          },
          "metadata": {
            "tags": []
          },
          "execution_count": 64
        }
      ]
    },
    {
      "cell_type": "markdown",
      "metadata": {
        "id": "8uN_r4EzUCck",
        "colab_type": "text"
      },
      "source": [
        "- For both ride apps, average rates are highest on weekdays, Tuesday for Uber and Thursday for Lyft"
      ]
    },
    {
      "cell_type": "code",
      "metadata": {
        "id": "z6ufFKtt3qeK",
        "colab_type": "code",
        "colab": {
          "base_uri": "https://localhost:8080/",
          "height": 69
        },
        "outputId": "9a6ac5d8-fb51-477d-cee9-085fc2edaf31"
      },
      "source": [
        "%%sql\n",
        "create view [Early morning Trips] as\n",
        "select count(surge_multiplier) as Total\n",
        "from TripData\n",
        "where early_morning == 1"
      ],
      "execution_count": null,
      "outputs": [
        {
          "output_type": "stream",
          "text": [
            " * sqlite://\n",
            "Done.\n"
          ],
          "name": "stdout"
        },
        {
          "output_type": "execute_result",
          "data": {
            "text/plain": [
              "[]"
            ]
          },
          "metadata": {
            "tags": []
          },
          "execution_count": 65
        }
      ]
    },
    {
      "cell_type": "code",
      "metadata": {
        "id": "viOUnGbC4-T9",
        "colab_type": "code",
        "colab": {
          "base_uri": "https://localhost:8080/",
          "height": 90
        },
        "outputId": "2afb9322-3e43-498c-d05b-387ed02a305e"
      },
      "source": [
        "%sql select * from [Early morning Trips];"
      ],
      "execution_count": null,
      "outputs": [
        {
          "output_type": "stream",
          "text": [
            " * sqlite://\n",
            "Done.\n"
          ],
          "name": "stdout"
        },
        {
          "output_type": "execute_result",
          "data": {
            "text/html": [
              "<table>\n",
              "    <tr>\n",
              "        <th>Total</th>\n",
              "    </tr>\n",
              "    <tr>\n",
              "        <td>153887</td>\n",
              "    </tr>\n",
              "</table>"
            ],
            "text/plain": [
              "[(153887,)]"
            ]
          },
          "metadata": {
            "tags": []
          },
          "execution_count": 66
        }
      ]
    },
    {
      "cell_type": "code",
      "metadata": {
        "id": "BYPbByoo54Xq",
        "colab_type": "code",
        "colab": {
          "base_uri": "https://localhost:8080/",
          "height": 69
        },
        "outputId": "e2e8a518-d237-44f9-a3aa-3bf1213da71a"
      },
      "source": [
        "%%sql\n",
        "create view [Surged early morning trips] as\n",
        "select count(surge_multiplier) as Total_Surges\n",
        "from TripData\n",
        "where early_morning == 1 and surge_multiplier > 1.0"
      ],
      "execution_count": null,
      "outputs": [
        {
          "output_type": "stream",
          "text": [
            " * sqlite://\n",
            "Done.\n"
          ],
          "name": "stdout"
        },
        {
          "output_type": "execute_result",
          "data": {
            "text/plain": [
              "[]"
            ]
          },
          "metadata": {
            "tags": []
          },
          "execution_count": 67
        }
      ]
    },
    {
      "cell_type": "code",
      "metadata": {
        "id": "_QAZQeiX7uhA",
        "colab_type": "code",
        "colab": {
          "base_uri": "https://localhost:8080/",
          "height": 90
        },
        "outputId": "23d5f28e-b4b9-406a-e96d-2f8c62d66f14"
      },
      "source": [
        "%sql select * from [Surged early morning trips]"
      ],
      "execution_count": null,
      "outputs": [
        {
          "output_type": "stream",
          "text": [
            " * sqlite://\n",
            "Done.\n"
          ],
          "name": "stdout"
        },
        {
          "output_type": "execute_result",
          "data": {
            "text/html": [
              "<table>\n",
              "    <tr>\n",
              "        <th>Total_Surges</th>\n",
              "    </tr>\n",
              "    <tr>\n",
              "        <td>5283</td>\n",
              "    </tr>\n",
              "</table>"
            ],
            "text/plain": [
              "[(5283,)]"
            ]
          },
          "metadata": {
            "tags": []
          },
          "execution_count": 68
        }
      ]
    },
    {
      "cell_type": "code",
      "metadata": {
        "id": "uRTwH-CtSHG5",
        "colab_type": "code",
        "colab": {
          "base_uri": "https://localhost:8080/",
          "height": 90
        },
        "outputId": "e500f00c-2d53-4182-ece3-0afc17df956c"
      },
      "source": [
        "# Check for frequency of price surges in the early morning hours\n",
        "%%sql\n",
        "select ROUND((CAST(Total_Surges AS FLOAT) / Total) * 100, 2)  as 'Trip %'\n",
        "from [Early morning Trips], [Surged early morning trips]"
      ],
      "execution_count": null,
      "outputs": [
        {
          "output_type": "stream",
          "text": [
            " * sqlite://\n",
            "Done.\n"
          ],
          "name": "stdout"
        },
        {
          "output_type": "execute_result",
          "data": {
            "text/html": [
              "<table>\n",
              "    <tr>\n",
              "        <th>Trip %</th>\n",
              "    </tr>\n",
              "    <tr>\n",
              "        <td>3.43</td>\n",
              "    </tr>\n",
              "</table>"
            ],
            "text/plain": [
              "[(3.43,)]"
            ]
          },
          "metadata": {
            "tags": []
          },
          "execution_count": 69
        }
      ]
    },
    {
      "cell_type": "code",
      "metadata": {
        "id": "pSKqSe9KWJXX",
        "colab_type": "code",
        "colab": {
          "base_uri": "https://localhost:8080/",
          "height": 69
        },
        "outputId": "8419d0a0-6757-484a-8a6c-feb345765a74"
      },
      "source": [
        "# Check for frequency of price surges in the late morning hours\n",
        "%%sql\n",
        "create view [Late morning Trips] as\n",
        "select count(surge_multiplier) as Total\n",
        "from TripData\n",
        "where late_morning == 1"
      ],
      "execution_count": null,
      "outputs": [
        {
          "output_type": "stream",
          "text": [
            " * sqlite://\n",
            "Done.\n"
          ],
          "name": "stdout"
        },
        {
          "output_type": "execute_result",
          "data": {
            "text/plain": [
              "[]"
            ]
          },
          "metadata": {
            "tags": []
          },
          "execution_count": 70
        }
      ]
    },
    {
      "cell_type": "code",
      "metadata": {
        "id": "r_iYeJgC8vxW",
        "colab_type": "code",
        "colab": {
          "base_uri": "https://localhost:8080/",
          "height": 69
        },
        "outputId": "c9a4af8d-5ebc-44fc-98b8-aa3bb2639f65"
      },
      "source": [
        "%%sql\n",
        "create view [Surged late morning trips] as\n",
        "select count(surge_multiplier) as Total_Surges\n",
        "from TripData\n",
        "where late_morning == 1 and surge_multiplier > 1.0"
      ],
      "execution_count": null,
      "outputs": [
        {
          "output_type": "stream",
          "text": [
            " * sqlite://\n",
            "Done.\n"
          ],
          "name": "stdout"
        },
        {
          "output_type": "execute_result",
          "data": {
            "text/plain": [
              "[]"
            ]
          },
          "metadata": {
            "tags": []
          },
          "execution_count": 71
        }
      ]
    },
    {
      "cell_type": "code",
      "metadata": {
        "id": "AEwoQPRk9Cil",
        "colab_type": "code",
        "colab": {
          "base_uri": "https://localhost:8080/",
          "height": 90
        },
        "outputId": "a8d056e8-eebe-42fc-fa7d-aa9c1ec1b510"
      },
      "source": [
        "%%sql\n",
        "select ROUND((CAST(Total_Surges AS FLOAT) / Total) * 100, 2)  as 'Trip %'\n",
        "from [Late morning Trips], [Surged late morning trips]"
      ],
      "execution_count": null,
      "outputs": [
        {
          "output_type": "stream",
          "text": [
            " * sqlite://\n",
            "Done.\n"
          ],
          "name": "stdout"
        },
        {
          "output_type": "execute_result",
          "data": {
            "text/html": [
              "<table>\n",
              "    <tr>\n",
              "        <th>Trip %</th>\n",
              "    </tr>\n",
              "    <tr>\n",
              "        <td>3.12</td>\n",
              "    </tr>\n",
              "</table>"
            ],
            "text/plain": [
              "[(3.12,)]"
            ]
          },
          "metadata": {
            "tags": []
          },
          "execution_count": 72
        }
      ]
    },
    {
      "cell_type": "code",
      "metadata": {
        "id": "e8WZrhVwXjsI",
        "colab_type": "code",
        "colab": {
          "base_uri": "https://localhost:8080/",
          "height": 69
        },
        "outputId": "a61ef273-6cea-4516-b057-4183e729b9bc"
      },
      "source": [
        "# Check for frequency of price surges in the lunch hours\n",
        "%%sql\n",
        "create view [Lunch Hours] as\n",
        "select count(surge_multiplier) as Total\n",
        "from TripData\n",
        "where lunch_hours == 1"
      ],
      "execution_count": null,
      "outputs": [
        {
          "output_type": "stream",
          "text": [
            " * sqlite://\n",
            "Done.\n"
          ],
          "name": "stdout"
        },
        {
          "output_type": "execute_result",
          "data": {
            "text/plain": [
              "[]"
            ]
          },
          "metadata": {
            "tags": []
          },
          "execution_count": 73
        }
      ]
    },
    {
      "cell_type": "code",
      "metadata": {
        "id": "TdXm4O5z9nNS",
        "colab_type": "code",
        "colab": {
          "base_uri": "https://localhost:8080/",
          "height": 69
        },
        "outputId": "31cd1c48-5d51-4724-92a3-9033417d77ea"
      },
      "source": [
        "%%sql\n",
        "create view [Surged lunch hour trips] as\n",
        "select count(surge_multiplier) as Total_Surges\n",
        "from TripData\n",
        "where lunch_hours == 1 and surge_multiplier > 1.0"
      ],
      "execution_count": null,
      "outputs": [
        {
          "output_type": "stream",
          "text": [
            " * sqlite://\n",
            "Done.\n"
          ],
          "name": "stdout"
        },
        {
          "output_type": "execute_result",
          "data": {
            "text/plain": [
              "[]"
            ]
          },
          "metadata": {
            "tags": []
          },
          "execution_count": 74
        }
      ]
    },
    {
      "cell_type": "code",
      "metadata": {
        "id": "E7rfZIVL-BTV",
        "colab_type": "code",
        "colab": {
          "base_uri": "https://localhost:8080/",
          "height": 90
        },
        "outputId": "916ec369-ab54-4b2c-e7be-f2cd7e5ebed9"
      },
      "source": [
        "%%sql\n",
        "select ROUND((CAST(Total_Surges AS FLOAT) / Total) * 100, 2)  as 'Trip %'\n",
        "from [Lunch Hours], [Surged lunch hour trips]"
      ],
      "execution_count": null,
      "outputs": [
        {
          "output_type": "stream",
          "text": [
            " * sqlite://\n",
            "Done.\n"
          ],
          "name": "stdout"
        },
        {
          "output_type": "execute_result",
          "data": {
            "text/html": [
              "<table>\n",
              "    <tr>\n",
              "        <th>Trip %</th>\n",
              "    </tr>\n",
              "    <tr>\n",
              "        <td>3.59</td>\n",
              "    </tr>\n",
              "</table>"
            ],
            "text/plain": [
              "[(3.59,)]"
            ]
          },
          "metadata": {
            "tags": []
          },
          "execution_count": 75
        }
      ]
    },
    {
      "cell_type": "code",
      "metadata": {
        "id": "zmVEL3AMXraQ",
        "colab_type": "code",
        "colab": {
          "base_uri": "https://localhost:8080/",
          "height": 69
        },
        "outputId": "7e4a35f9-a6b5-4842-bd89-543a492b1a96"
      },
      "source": [
        "# Check for frequency of price surges in the afternoon hours\n",
        "%%sql\n",
        "create view [Afternoon Trips] as\n",
        "select count(surge_multiplier) as Total\n",
        "from TripData\n",
        "where afternoon == 1"
      ],
      "execution_count": null,
      "outputs": [
        {
          "output_type": "stream",
          "text": [
            " * sqlite://\n",
            "Done.\n"
          ],
          "name": "stdout"
        },
        {
          "output_type": "execute_result",
          "data": {
            "text/plain": [
              "[]"
            ]
          },
          "metadata": {
            "tags": []
          },
          "execution_count": 76
        }
      ]
    },
    {
      "cell_type": "code",
      "metadata": {
        "id": "iRHs15Kl-88-",
        "colab_type": "code",
        "colab": {
          "base_uri": "https://localhost:8080/",
          "height": 69
        },
        "outputId": "2128508c-cb58-45d8-afff-fef88a95eae2"
      },
      "source": [
        "\n",
        "%%sql\n",
        "create view [Surged afternoon trips] as\n",
        "select count(surge_multiplier) as Total_Surges\n",
        "from TripData\n",
        "where afternoon == 1 and surge_multiplier > 1.0"
      ],
      "execution_count": null,
      "outputs": [
        {
          "output_type": "stream",
          "text": [
            " * sqlite://\n",
            "Done.\n"
          ],
          "name": "stdout"
        },
        {
          "output_type": "execute_result",
          "data": {
            "text/plain": [
              "[]"
            ]
          },
          "metadata": {
            "tags": []
          },
          "execution_count": 77
        }
      ]
    },
    {
      "cell_type": "code",
      "metadata": {
        "id": "DlkN_qCe_Rm1",
        "colab_type": "code",
        "colab": {
          "base_uri": "https://localhost:8080/",
          "height": 90
        },
        "outputId": "7484c81a-56ab-4d7d-dfcf-a67deada8951"
      },
      "source": [
        "%%sql\n",
        "select ROUND((CAST(Total_Surges AS FLOAT) / Total) * 100, 2)  as 'Trip %'\n",
        "from [Afternoon Trips], [Surged afternoon trips]"
      ],
      "execution_count": null,
      "outputs": [
        {
          "output_type": "stream",
          "text": [
            " * sqlite://\n",
            "Done.\n"
          ],
          "name": "stdout"
        },
        {
          "output_type": "execute_result",
          "data": {
            "text/html": [
              "<table>\n",
              "    <tr>\n",
              "        <th>Trip %</th>\n",
              "    </tr>\n",
              "    <tr>\n",
              "        <td>3.12</td>\n",
              "    </tr>\n",
              "</table>"
            ],
            "text/plain": [
              "[(3.12,)]"
            ]
          },
          "metadata": {
            "tags": []
          },
          "execution_count": 79
        }
      ]
    },
    {
      "cell_type": "code",
      "metadata": {
        "id": "FMnIroiLX4To",
        "colab_type": "code",
        "colab": {
          "base_uri": "https://localhost:8080/",
          "height": 69
        },
        "outputId": "e9dfaa29-f3c7-4f09-b41f-8437f132ca13"
      },
      "source": [
        "# Check for frequency of price surges in the rush hours\n",
        "%%sql\n",
        "create view [Rush hour trips] as\n",
        "select count() as Total\n",
        "from TripData \n",
        "where rush_hours == 1"
      ],
      "execution_count": null,
      "outputs": [
        {
          "output_type": "stream",
          "text": [
            " * sqlite://\n",
            "Done.\n"
          ],
          "name": "stdout"
        },
        {
          "output_type": "execute_result",
          "data": {
            "text/plain": [
              "[]"
            ]
          },
          "metadata": {
            "tags": []
          },
          "execution_count": 80
        }
      ]
    },
    {
      "cell_type": "code",
      "metadata": {
        "id": "-2-LIDYN8LFE",
        "colab_type": "code",
        "colab": {
          "base_uri": "https://localhost:8080/",
          "height": 69
        },
        "outputId": "e5468186-5bf1-4913-8c04-0a83d1fec716"
      },
      "source": [
        "%%sql\n",
        "create view [Surged rush hour trips] as\n",
        "select count() as Total_Surges\n",
        "from TripData \n",
        "where rush_hours == 1 and surge_multiplier > 1.0"
      ],
      "execution_count": null,
      "outputs": [
        {
          "output_type": "stream",
          "text": [
            " * sqlite://\n",
            "Done.\n"
          ],
          "name": "stdout"
        },
        {
          "output_type": "execute_result",
          "data": {
            "text/plain": [
              "[]"
            ]
          },
          "metadata": {
            "tags": []
          },
          "execution_count": 81
        }
      ]
    },
    {
      "cell_type": "code",
      "metadata": {
        "id": "7BWz381Z8cwn",
        "colab_type": "code",
        "colab": {
          "base_uri": "https://localhost:8080/",
          "height": 90
        },
        "outputId": "4bf0ac4d-da75-4bb0-b650-22d8bad8993f"
      },
      "source": [
        "%%sql\n",
        "select ROUND((CAST(Total_Surges AS FLOAT) / Total) * 100, 2)  as 'Trip %'\n",
        "from [Rush hour trips], [Surged rush hour trips]"
      ],
      "execution_count": null,
      "outputs": [
        {
          "output_type": "stream",
          "text": [
            " * sqlite://\n",
            "Done.\n"
          ],
          "name": "stdout"
        },
        {
          "output_type": "execute_result",
          "data": {
            "text/html": [
              "<table>\n",
              "    <tr>\n",
              "        <th>Trip %</th>\n",
              "    </tr>\n",
              "    <tr>\n",
              "        <td>3.16</td>\n",
              "    </tr>\n",
              "</table>"
            ],
            "text/plain": [
              "[(3.16,)]"
            ]
          },
          "metadata": {
            "tags": []
          },
          "execution_count": 82
        }
      ]
    },
    {
      "cell_type": "code",
      "metadata": {
        "id": "wgeWvDJZYD2m",
        "colab_type": "code",
        "colab": {
          "base_uri": "https://localhost:8080/",
          "height": 69
        },
        "outputId": "c25a8a0c-2235-4faf-e20e-2a1b28906baf"
      },
      "source": [
        "# Check for frequency of price surges in the night hours\n",
        "%%sql\n",
        "create view [Night trips] as\n",
        "select count() as Total\n",
        "from TripData\n",
        "where night == 1"
      ],
      "execution_count": null,
      "outputs": [
        {
          "output_type": "stream",
          "text": [
            " * sqlite://\n",
            "Done.\n"
          ],
          "name": "stdout"
        },
        {
          "output_type": "execute_result",
          "data": {
            "text/plain": [
              "[]"
            ]
          },
          "metadata": {
            "tags": []
          },
          "execution_count": 83
        }
      ]
    },
    {
      "cell_type": "code",
      "metadata": {
        "id": "dRtm4J869P6k",
        "colab_type": "code",
        "colab": {
          "base_uri": "https://localhost:8080/",
          "height": 69
        },
        "outputId": "6f2da860-bf81-40cf-886b-aeca3f140f51"
      },
      "source": [
        "%%sql\n",
        "create view [Surged night trips] as\n",
        "select count() as Total_Surges \n",
        "from TripData\n",
        "where night == 1 and surge_multiplier > 1.0"
      ],
      "execution_count": null,
      "outputs": [
        {
          "output_type": "stream",
          "text": [
            " * sqlite://\n",
            "Done.\n"
          ],
          "name": "stdout"
        },
        {
          "output_type": "execute_result",
          "data": {
            "text/plain": [
              "[]"
            ]
          },
          "metadata": {
            "tags": []
          },
          "execution_count": 84
        }
      ]
    },
    {
      "cell_type": "code",
      "metadata": {
        "id": "9_1vkmDS9vXd",
        "colab_type": "code",
        "colab": {
          "base_uri": "https://localhost:8080/",
          "height": 90
        },
        "outputId": "36233b70-4059-4f3d-aa7c-f85a63e349f4"
      },
      "source": [
        "%%sql\n",
        "select ROUND((CAST(Total_Surges AS FLOAT) / Total) * 100, 2)  as 'Trip %'\n",
        "from [Night Trips], [Surged night trips]"
      ],
      "execution_count": null,
      "outputs": [
        {
          "output_type": "stream",
          "text": [
            " * sqlite://\n",
            "Done.\n"
          ],
          "name": "stdout"
        },
        {
          "output_type": "execute_result",
          "data": {
            "text/html": [
              "<table>\n",
              "    <tr>\n",
              "        <th>Trip %</th>\n",
              "    </tr>\n",
              "    <tr>\n",
              "        <td>3.33</td>\n",
              "    </tr>\n",
              "</table>"
            ],
            "text/plain": [
              "[(3.33,)]"
            ]
          },
          "metadata": {
            "tags": []
          },
          "execution_count": 85
        }
      ]
    },
    {
      "cell_type": "code",
      "metadata": {
        "id": "hAGoK1P3Ywgl",
        "colab_type": "code",
        "colab": {
          "base_uri": "https://localhost:8080/",
          "height": 191
        },
        "outputId": "515d964f-eeac-467c-e8eb-0a179341bdfa"
      },
      "source": [
        "# Check for frequency of price surges in entire dataset\n",
        "%%sql\n",
        "select surge_multiplier, count(surge_multiplier) as 'Frequency'\n",
        "from TripData \n",
        "group by surge_multiplier;"
      ],
      "execution_count": null,
      "outputs": [
        {
          "output_type": "stream",
          "text": [
            " * sqlite://\n",
            "Done.\n"
          ],
          "name": "stdout"
        },
        {
          "output_type": "execute_result",
          "data": {
            "text/html": [
              "<table>\n",
              "    <tr>\n",
              "        <th>surge_multiplier</th>\n",
              "        <th>Frequency</th>\n",
              "    </tr>\n",
              "    <tr>\n",
              "        <td>1.0</td>\n",
              "        <td>1126594</td>\n",
              "    </tr>\n",
              "    <tr>\n",
              "        <td>1.25</td>\n",
              "        <td>20203</td>\n",
              "    </tr>\n",
              "    <tr>\n",
              "        <td>1.5</td>\n",
              "        <td>9384</td>\n",
              "    </tr>\n",
              "    <tr>\n",
              "        <td>1.75</td>\n",
              "        <td>4538</td>\n",
              "    </tr>\n",
              "    <tr>\n",
              "        <td>2.0</td>\n",
              "        <td>4013</td>\n",
              "    </tr>\n",
              "    <tr>\n",
              "        <td>2.5</td>\n",
              "        <td>243</td>\n",
              "    </tr>\n",
              "    <tr>\n",
              "        <td>3.0</td>\n",
              "        <td>21</td>\n",
              "    </tr>\n",
              "</table>"
            ],
            "text/plain": [
              "[(1.0, 1126594),\n",
              " (1.25, 20203),\n",
              " (1.5, 9384),\n",
              " (1.75, 4538),\n",
              " (2.0, 4013),\n",
              " (2.5, 243),\n",
              " (3.0, 21)]"
            ]
          },
          "metadata": {
            "tags": []
          },
          "execution_count": 79
        }
      ]
    },
    {
      "cell_type": "markdown",
      "metadata": {
        "id": "taA4cIt-YoEa",
        "colab_type": "text"
      },
      "source": [
        "Night, early morning and lunch hour trips have a detected higher percentage of trips with a price surge:\n",
        "- Lunch hours [ 12:00 pm - 2:00 pm ] : 3.59% of trips have a price surge\n",
        "- Early morning hours [ 5:00 am - 10:00 am] : 3.43% of trips have a price surge\n",
        "- Night hours [ 8:00 pm - 4:00 am] : 3.33% of trips have a price surge"
      ]
    },
    {
      "cell_type": "code",
      "metadata": {
        "id": "0d4wIVzTZZVA",
        "colab_type": "code",
        "colab": {
          "base_uri": "https://localhost:8080/",
          "height": 202
        },
        "outputId": "8bd86450-bdd2-45ee-ad95-8775e8e4ec03"
      },
      "source": [
        "# What are the average weather conditions for each surge multiplier?\n",
        "%%sql\n",
        "select round(avg(temp), 2) as 'Average Temperature', round(avg(rain),2) as 'Average Rainfall', round(avg(clouds),2) as 'Cloud Coverage', surge_multiplier\n",
        "from TripData \n",
        "group by surge_multiplier;\n"
      ],
      "execution_count": null,
      "outputs": [
        {
          "output_type": "stream",
          "text": [
            " * sqlite://\n",
            "Done.\n"
          ],
          "name": "stdout"
        },
        {
          "output_type": "execute_result",
          "data": {
            "text/html": [
              "<table>\n",
              "    <tr>\n",
              "        <th>Average Temperature</th>\n",
              "        <th>Average Rainfall</th>\n",
              "        <th>Cloud Coverage</th>\n",
              "        <th>surge_multiplier</th>\n",
              "    </tr>\n",
              "    <tr>\n",
              "        <td>39.26</td>\n",
              "        <td>0.01</td>\n",
              "        <td>0.68</td>\n",
              "        <td>1.0</td>\n",
              "    </tr>\n",
              "    <tr>\n",
              "        <td>39.2</td>\n",
              "        <td>0.01</td>\n",
              "        <td>0.68</td>\n",
              "        <td>1.25</td>\n",
              "    </tr>\n",
              "    <tr>\n",
              "        <td>39.06</td>\n",
              "        <td>0.01</td>\n",
              "        <td>0.68</td>\n",
              "        <td>1.5</td>\n",
              "    </tr>\n",
              "    <tr>\n",
              "        <td>39.37</td>\n",
              "        <td>0.01</td>\n",
              "        <td>0.69</td>\n",
              "        <td>1.75</td>\n",
              "    </tr>\n",
              "    <tr>\n",
              "        <td>39.22</td>\n",
              "        <td>0.01</td>\n",
              "        <td>0.67</td>\n",
              "        <td>2.0</td>\n",
              "    </tr>\n",
              "    <tr>\n",
              "        <td>38.98</td>\n",
              "        <td>0.0</td>\n",
              "        <td>0.65</td>\n",
              "        <td>2.5</td>\n",
              "    </tr>\n",
              "    <tr>\n",
              "        <td>38.81</td>\n",
              "        <td>0.01</td>\n",
              "        <td>0.8</td>\n",
              "        <td>3.0</td>\n",
              "    </tr>\n",
              "</table>"
            ],
            "text/plain": [
              "[(39.26, 0.01, 0.68, 1.0),\n",
              " (39.2, 0.01, 0.68, 1.25),\n",
              " (39.06, 0.01, 0.68, 1.5),\n",
              " (39.37, 0.01, 0.69, 1.75),\n",
              " (39.22, 0.01, 0.67, 2.0),\n",
              " (38.98, 0.0, 0.65, 2.5),\n",
              " (38.81, 0.01, 0.8, 3.0)]"
            ]
          },
          "metadata": {
            "tags": []
          },
          "execution_count": 86
        }
      ]
    },
    {
      "cell_type": "markdown",
      "metadata": {
        "id": "1Ru8r5eSbx7X",
        "colab_type": "text"
      },
      "source": [
        "Trips that experienced price surges, i.e 3.0, have a notable spike in cloud coverage: 0.8"
      ]
    },
    {
      "cell_type": "code",
      "metadata": {
        "id": "sdmuDQOja8tc",
        "colab_type": "code",
        "colab": {
          "base_uri": "https://localhost:8080/",
          "height": 90
        },
        "outputId": "ea49332e-4557-48fb-e758-31a9a07dab86"
      },
      "source": [
        "# what are the average prices on weekdays and weekends?\n",
        "%%sql\n",
        "select round(avg(price), 2) as 'Average Price on Weekdays'\n",
        "from TripData\n",
        "where weekday == 1"
      ],
      "execution_count": null,
      "outputs": [
        {
          "output_type": "stream",
          "text": [
            " * sqlite://\n",
            "Done.\n"
          ],
          "name": "stdout"
        },
        {
          "output_type": "execute_result",
          "data": {
            "text/html": [
              "<table>\n",
              "    <tr>\n",
              "        <th>Average Price on Weekdays</th>\n",
              "    </tr>\n",
              "    <tr>\n",
              "        <td>16.54</td>\n",
              "    </tr>\n",
              "</table>"
            ],
            "text/plain": [
              "[(16.54,)]"
            ]
          },
          "metadata": {
            "tags": []
          },
          "execution_count": 87
        }
      ]
    },
    {
      "cell_type": "code",
      "metadata": {
        "id": "cPBt3EJedKXd",
        "colab_type": "code",
        "colab": {
          "base_uri": "https://localhost:8080/",
          "height": 90
        },
        "outputId": "360e0aa7-ff2c-4cc7-974f-feb88b71b7ba"
      },
      "source": [
        "%%sql\n",
        "select round(avg(price), 2) as 'Average Price on Weekends'\n",
        "from TripData\n",
        "where weekend == 1"
      ],
      "execution_count": null,
      "outputs": [
        {
          "output_type": "stream",
          "text": [
            " * sqlite://\n",
            "Done.\n"
          ],
          "name": "stdout"
        },
        {
          "output_type": "execute_result",
          "data": {
            "text/html": [
              "<table>\n",
              "    <tr>\n",
              "        <th>Average Price on Weekends</th>\n",
              "    </tr>\n",
              "    <tr>\n",
              "        <td>16.56</td>\n",
              "    </tr>\n",
              "</table>"
            ],
            "text/plain": [
              "[(16.56,)]"
            ]
          },
          "metadata": {
            "tags": []
          },
          "execution_count": 88
        }
      ]
    },
    {
      "cell_type": "markdown",
      "metadata": {
        "id": "v--YxKl_djvU",
        "colab_type": "text"
      },
      "source": [
        "Cab prices are relatively equal for weekends and weekdays"
      ]
    },
    {
      "cell_type": "code",
      "metadata": {
        "id": "Uivw0JJYdS6n",
        "colab_type": "code",
        "colab": {
          "base_uri": "https://localhost:8080/",
          "height": 90
        },
        "outputId": "00423f27-c654-40cc-a530-dd343720025c"
      },
      "source": [
        "%%sql\n",
        "select round(avg(price), 2) as 'Average Price on Weekdays'\n",
        "from TripData\n",
        "where weekday == 1 and cab_type == 'Uber'"
      ],
      "execution_count": null,
      "outputs": [
        {
          "output_type": "stream",
          "text": [
            " * sqlite://\n",
            "Done.\n"
          ],
          "name": "stdout"
        },
        {
          "output_type": "execute_result",
          "data": {
            "text/html": [
              "<table>\n",
              "    <tr>\n",
              "        <th>Average Price on Weekdays</th>\n",
              "    </tr>\n",
              "    <tr>\n",
              "        <td>15.81</td>\n",
              "    </tr>\n",
              "</table>"
            ],
            "text/plain": [
              "[(15.81,)]"
            ]
          },
          "metadata": {
            "tags": []
          },
          "execution_count": 89
        }
      ]
    },
    {
      "cell_type": "code",
      "metadata": {
        "id": "K-omKWm-eQmd",
        "colab_type": "code",
        "colab": {
          "base_uri": "https://localhost:8080/",
          "height": 90
        },
        "outputId": "e2c836a8-a261-4e39-beb9-724f735faf52"
      },
      "source": [
        "%%sql\n",
        "select round(avg(price), 2) as 'Average Price on Weekends'\n",
        "from TripData\n",
        "where weekend == 1 and cab_type == 'Uber';"
      ],
      "execution_count": null,
      "outputs": [
        {
          "output_type": "stream",
          "text": [
            " * sqlite://\n",
            "Done.\n"
          ],
          "name": "stdout"
        },
        {
          "output_type": "execute_result",
          "data": {
            "text/html": [
              "<table>\n",
              "    <tr>\n",
              "        <th>Average Price on Weekends</th>\n",
              "    </tr>\n",
              "    <tr>\n",
              "        <td>15.8</td>\n",
              "    </tr>\n",
              "</table>"
            ],
            "text/plain": [
              "[(15.8,)]"
            ]
          },
          "metadata": {
            "tags": []
          },
          "execution_count": 90
        }
      ]
    },
    {
      "cell_type": "code",
      "metadata": {
        "id": "ws42rPpdew-L",
        "colab_type": "code",
        "colab": {
          "base_uri": "https://localhost:8080/",
          "height": 90
        },
        "outputId": "01d48af3-cc2d-40f5-96f3-ea938170a1d6"
      },
      "source": [
        "%%sql\n",
        "select round(avg(price), 2) as 'Average Price on Weekdays'\n",
        "from TripData\n",
        "where weekday == 1 and cab_type == 'Lyft'"
      ],
      "execution_count": null,
      "outputs": [
        {
          "output_type": "stream",
          "text": [
            " * sqlite://\n",
            "Done.\n"
          ],
          "name": "stdout"
        },
        {
          "output_type": "execute_result",
          "data": {
            "text/html": [
              "<table>\n",
              "    <tr>\n",
              "        <th>Average Price on Weekdays</th>\n",
              "    </tr>\n",
              "    <tr>\n",
              "        <td>17.32</td>\n",
              "    </tr>\n",
              "</table>"
            ],
            "text/plain": [
              "[(17.32,)]"
            ]
          },
          "metadata": {
            "tags": []
          },
          "execution_count": 91
        }
      ]
    },
    {
      "cell_type": "code",
      "metadata": {
        "id": "ZD9quUWse6_F",
        "colab_type": "code",
        "colab": {
          "base_uri": "https://localhost:8080/",
          "height": 90
        },
        "outputId": "f9d52e36-9ca9-419a-905f-99a5466760d1"
      },
      "source": [
        "%%sql\n",
        "select round(avg(price), 2) as 'Average Price on Weekends'\n",
        "from TripData\n",
        "where weekend == 1 and cab_type == 'Lyft'"
      ],
      "execution_count": null,
      "outputs": [
        {
          "output_type": "stream",
          "text": [
            " * sqlite://\n",
            "Done.\n"
          ],
          "name": "stdout"
        },
        {
          "output_type": "execute_result",
          "data": {
            "text/html": [
              "<table>\n",
              "    <tr>\n",
              "        <th>Average Price on Weekends</th>\n",
              "    </tr>\n",
              "    <tr>\n",
              "        <td>17.38</td>\n",
              "    </tr>\n",
              "</table>"
            ],
            "text/plain": [
              "[(17.38,)]"
            ]
          },
          "metadata": {
            "tags": []
          },
          "execution_count": 92
        }
      ]
    },
    {
      "cell_type": "code",
      "metadata": {
        "id": "Xn03mpWrfGht",
        "colab_type": "code",
        "colab": {
          "base_uri": "https://localhost:8080/",
          "height": 90
        },
        "outputId": "29934ec3-7976-433b-e7c4-4b52e0f2c9c8"
      },
      "source": [
        "# What are the average prices by time of day\n",
        "%%sql\n",
        "select round(avg(price),2) as 'Average Price'\n",
        "from TripData\n",
        "where early_morning == 1"
      ],
      "execution_count": null,
      "outputs": [
        {
          "output_type": "stream",
          "text": [
            " * sqlite://\n",
            "Done.\n"
          ],
          "name": "stdout"
        },
        {
          "output_type": "execute_result",
          "data": {
            "text/html": [
              "<table>\n",
              "    <tr>\n",
              "        <th>Average Price</th>\n",
              "    </tr>\n",
              "    <tr>\n",
              "        <td>16.55</td>\n",
              "    </tr>\n",
              "</table>"
            ],
            "text/plain": [
              "[(16.55,)]"
            ]
          },
          "metadata": {
            "tags": []
          },
          "execution_count": 93
        }
      ]
    },
    {
      "cell_type": "code",
      "metadata": {
        "id": "hePZp7YvgkTf",
        "colab_type": "code",
        "colab": {
          "base_uri": "https://localhost:8080/",
          "height": 90
        },
        "outputId": "feeb866a-ba8c-47f9-b79f-c9d405096331"
      },
      "source": [
        "%%sql\n",
        "select round(avg(price),2) as 'Average Price'\n",
        "from TripData\n",
        "where late_morning == 1"
      ],
      "execution_count": null,
      "outputs": [
        {
          "output_type": "stream",
          "text": [
            " * sqlite://\n",
            "Done.\n"
          ],
          "name": "stdout"
        },
        {
          "output_type": "execute_result",
          "data": {
            "text/html": [
              "<table>\n",
              "    <tr>\n",
              "        <th>Average Price</th>\n",
              "    </tr>\n",
              "    <tr>\n",
              "        <td>16.48</td>\n",
              "    </tr>\n",
              "</table>"
            ],
            "text/plain": [
              "[(16.48,)]"
            ]
          },
          "metadata": {
            "tags": []
          },
          "execution_count": 94
        }
      ]
    },
    {
      "cell_type": "code",
      "metadata": {
        "id": "36-q-Nsigs05",
        "colab_type": "code",
        "colab": {
          "base_uri": "https://localhost:8080/",
          "height": 90
        },
        "outputId": "3a481d78-4f51-4968-9280-b43c99097eea"
      },
      "source": [
        "%%sql\n",
        "select round(avg(price),2) as 'Average Price'\n",
        "from TripData\n",
        "where lunch_hours == 1"
      ],
      "execution_count": null,
      "outputs": [
        {
          "output_type": "stream",
          "text": [
            " * sqlite://\n",
            "Done.\n"
          ],
          "name": "stdout"
        },
        {
          "output_type": "execute_result",
          "data": {
            "text/html": [
              "<table>\n",
              "    <tr>\n",
              "        <th>Average Price</th>\n",
              "    </tr>\n",
              "    <tr>\n",
              "        <td>16.5</td>\n",
              "    </tr>\n",
              "</table>"
            ],
            "text/plain": [
              "[(16.5,)]"
            ]
          },
          "metadata": {
            "tags": []
          },
          "execution_count": 95
        }
      ]
    },
    {
      "cell_type": "code",
      "metadata": {
        "id": "RfNxlzZwgy9v",
        "colab_type": "code",
        "colab": {
          "base_uri": "https://localhost:8080/",
          "height": 90
        },
        "outputId": "2fbba71a-180f-4ef7-f907-cccf6ca44e32"
      },
      "source": [
        "%%sql\n",
        "select round(avg(price),2) as 'Average Price'\n",
        "from TripData\n",
        "where afternoon == 1"
      ],
      "execution_count": null,
      "outputs": [
        {
          "output_type": "stream",
          "text": [
            " * sqlite://\n",
            "Done.\n"
          ],
          "name": "stdout"
        },
        {
          "output_type": "execute_result",
          "data": {
            "text/html": [
              "<table>\n",
              "    <tr>\n",
              "        <th>Average Price</th>\n",
              "    </tr>\n",
              "    <tr>\n",
              "        <td>16.53</td>\n",
              "    </tr>\n",
              "</table>"
            ],
            "text/plain": [
              "[(16.53,)]"
            ]
          },
          "metadata": {
            "tags": []
          },
          "execution_count": 96
        }
      ]
    },
    {
      "cell_type": "code",
      "metadata": {
        "id": "h79Pvomdg39m",
        "colab_type": "code",
        "colab": {
          "base_uri": "https://localhost:8080/",
          "height": 90
        },
        "outputId": "26ef3a99-c78a-43d8-a128-b66560f51674"
      },
      "source": [
        "%%sql\n",
        "select round(avg(price),2) as 'Average Price'\n",
        "from TripData\n",
        "where rush_hours == 1"
      ],
      "execution_count": null,
      "outputs": [
        {
          "output_type": "stream",
          "text": [
            " * sqlite://\n",
            "Done.\n"
          ],
          "name": "stdout"
        },
        {
          "output_type": "execute_result",
          "data": {
            "text/html": [
              "<table>\n",
              "    <tr>\n",
              "        <th>Average Price</th>\n",
              "    </tr>\n",
              "    <tr>\n",
              "        <td>16.56</td>\n",
              "    </tr>\n",
              "</table>"
            ],
            "text/plain": [
              "[(16.56,)]"
            ]
          },
          "metadata": {
            "tags": []
          },
          "execution_count": 97
        }
      ]
    },
    {
      "cell_type": "code",
      "metadata": {
        "id": "tTmBWfuAhAPi",
        "colab_type": "code",
        "colab": {
          "base_uri": "https://localhost:8080/",
          "height": 90
        },
        "outputId": "9cf55afc-0cf1-4607-f2b3-699592aa176f"
      },
      "source": [
        "%%sql\n",
        "select round(avg(price),2) as 'Average Price'\n",
        "from TripData\n",
        "where night == 1"
      ],
      "execution_count": null,
      "outputs": [
        {
          "output_type": "stream",
          "text": [
            " * sqlite://\n",
            "Done.\n"
          ],
          "name": "stdout"
        },
        {
          "output_type": "execute_result",
          "data": {
            "text/html": [
              "<table>\n",
              "    <tr>\n",
              "        <th>Average Price</th>\n",
              "    </tr>\n",
              "    <tr>\n",
              "        <td>16.56</td>\n",
              "    </tr>\n",
              "</table>"
            ],
            "text/plain": [
              "[(16.56,)]"
            ]
          },
          "metadata": {
            "tags": []
          },
          "execution_count": 98
        }
      ]
    },
    {
      "cell_type": "markdown",
      "metadata": {
        "id": "MKzk55xBhN2J",
        "colab_type": "text"
      },
      "source": [
        "Average prices spike in \n",
        "- Rush hours [4:00 pm - 8:00 pm]\n",
        "- Night hours [8:00 pm - 5:00 am]\n",
        "- Early morning hours [5:00 am - 10:00 am]\n",
        "\n",
        "Lowest average prices are recorded:\n",
        "- Late morning hours [10:00 am - 12:00 pm]\n"
      ]
    },
    {
      "cell_type": "code",
      "metadata": {
        "id": "ob0AvCn0HKRX",
        "colab_type": "code",
        "colab": {
          "base_uri": "https://localhost:8080/",
          "height": 202
        },
        "outputId": "de1b90a5-8da8-4f80-a97a-75185f605efa"
      },
      "source": [
        "# Find out which days have the most trips\n",
        "%%sql\n",
        "select day_x as 'Day', count() as 'Number of Trips'\n",
        "from TripData\n",
        "group by day_x\n",
        "order by count() DESC;"
      ],
      "execution_count": null,
      "outputs": [
        {
          "output_type": "stream",
          "text": [
            " * sqlite://\n",
            "Done.\n"
          ],
          "name": "stdout"
        },
        {
          "output_type": "execute_result",
          "data": {
            "text/html": [
              "<table>\n",
              "    <tr>\n",
              "        <th>Day</th>\n",
              "        <th>Number of Trips</th>\n",
              "    </tr>\n",
              "    <tr>\n",
              "        <td>Thursday</td>\n",
              "        <td>255983</td>\n",
              "    </tr>\n",
              "    <tr>\n",
              "        <td>Wednesday</td>\n",
              "        <td>250642</td>\n",
              "    </tr>\n",
              "    <tr>\n",
              "        <td>Tuesday</td>\n",
              "        <td>214821</td>\n",
              "    </tr>\n",
              "    <tr>\n",
              "        <td>Monday</td>\n",
              "        <td>184053</td>\n",
              "    </tr>\n",
              "    <tr>\n",
              "        <td>Saturday</td>\n",
              "        <td>89036</td>\n",
              "    </tr>\n",
              "    <tr>\n",
              "        <td>Sunday</td>\n",
              "        <td>85715</td>\n",
              "    </tr>\n",
              "    <tr>\n",
              "        <td>Friday</td>\n",
              "        <td>84746</td>\n",
              "    </tr>\n",
              "</table>"
            ],
            "text/plain": [
              "[('Thursday', 255983),\n",
              " ('Wednesday', 250642),\n",
              " ('Tuesday', 214821),\n",
              " ('Monday', 184053),\n",
              " ('Saturday', 89036),\n",
              " ('Sunday', 85715),\n",
              " ('Friday', 84746)]"
            ]
          },
          "metadata": {
            "tags": []
          },
          "execution_count": 113
        }
      ]
    },
    {
      "cell_type": "markdown",
      "metadata": {
        "id": "rFYzD7a5AWkm",
        "colab_type": "text"
      },
      "source": [
        "### Results of Analysis"
      ]
    },
    {
      "cell_type": "markdown",
      "metadata": {
        "id": "H6Ykg4yjAdCI",
        "colab_type": "text"
      },
      "source": [
        "After analysis, cloud coverage has been determined to be a notable factor in whether there is a price surge or not. Trips with a price surge of x 3 have an average cloud cover of 0.8 \n",
        "\n",
        "The time of day has an impact on the price surges as well, with trips occuring during early mornings and night hours having a higher average pricing as well as a higher percentage of trips with surges; 3.43% and 3.33% respectively. An interesting discovery is that lunch hour trips have the highest percentage of trips with surges; 3.59%\n",
        "\n",
        "The prices on weekends and weekends are relatively equal, however, the days of the week that have the highest average price are weekdays, Tuesday for Uber and Thursday for Lyft. The days with the highest number of trips made are Thursdays and Wednesdays"
      ]
    },
    {
      "cell_type": "code",
      "metadata": {
        "id": "shTk3tmVhExF",
        "colab_type": "code",
        "colab": {}
      },
      "source": [
        ""
      ],
      "execution_count": null,
      "outputs": []
    }
  ]
}